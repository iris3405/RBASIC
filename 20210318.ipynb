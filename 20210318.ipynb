{
 "cells": [
  {
   "cell_type": "code",
   "execution_count": 3,
   "id": "efficient-barcelona",
   "metadata": {},
   "outputs": [],
   "source": [
    "library(readxl)\n",
    "library(dplyr)\n",
    "\n",
    "customer_r <- read_excel(\"customer_r.xlsx\")\n",
    "reservation_r <- read_excel(\"reservation_r.xlsx\")\n",
    "order_info_r <- read_excel(\"order_info_r.xlsx\")\n",
    "item_r <- read_excel(\"item_r.xlsx\")\n",
    "colnames(customer_r) <- tolower(colnames(customer_r))\n",
    "colnames(reservation_r) <- tolower(colnames(reservation_r))\n",
    "colnames(order_info_r) <- tolower(colnames(order_info_r))\n",
    "colnames(item_r) <- tolower(colnames(item_r))"
   ]
  },
  {
   "cell_type": "code",
   "execution_count": 6,
   "id": "regular-bottle",
   "metadata": {
    "scrolled": true
   },
   "outputs": [
    {
     "data": {
      "text/html": [
       "<table>\n",
       "<thead><tr><th scope=col>reserv_no</th><th scope=col>amt_daily</th></tr></thead>\n",
       "<tbody>\n",
       "\t<tr><td>2019060301</td><td>140       </td></tr>\n",
       "\t<tr><td>2019060601</td><td>152       </td></tr>\n",
       "\t<tr><td>2019060701</td><td> 48       </td></tr>\n",
       "\t<tr><td>2019061601</td><td>105       </td></tr>\n",
       "\t<tr><td>2019061801</td><td> 48       </td></tr>\n",
       "\t<tr><td>2019062001</td><td> 10       </td></tr>\n",
       "\t<tr><td>2019062201</td><td> 48       </td></tr>\n",
       "\t<tr><td>2019062601</td><td>  8       </td></tr>\n",
       "\t<tr><td>2019062901</td><td> 54       </td></tr>\n",
       "\t<tr><td>2019070101</td><td> 50       </td></tr>\n",
       "\t<tr><td>2019070102</td><td>100       </td></tr>\n",
       "\t<tr><td>2019070302</td><td> 50       </td></tr>\n",
       "\t<tr><td>2019070501</td><td> 48       </td></tr>\n",
       "\t<tr><td>2019070702</td><td> 46       </td></tr>\n",
       "\t<tr><td>2019070801</td><td> 70       </td></tr>\n",
       "\t<tr><td>2019071001</td><td> 48       </td></tr>\n",
       "\t<tr><td>2019071002</td><td>105       </td></tr>\n",
       "\t<tr><td>2019071101</td><td> 58       </td></tr>\n",
       "\t<tr><td>2019071201</td><td> 49       </td></tr>\n",
       "\t<tr><td>2019071401</td><td> 17       </td></tr>\n",
       "\t<tr><td>2019071501</td><td> 36       </td></tr>\n",
       "\t<tr><td>2019071601</td><td> 75       </td></tr>\n",
       "\t<tr><td>2019071602</td><td> 10       </td></tr>\n",
       "\t<tr><td>2019071801</td><td>140       </td></tr>\n",
       "\t<tr><td>2019071901</td><td> 73       </td></tr>\n",
       "\t<tr><td>2019072002</td><td> 10       </td></tr>\n",
       "\t<tr><td>2019072101</td><td>  6       </td></tr>\n",
       "\t<tr><td>2019072102</td><td> 17       </td></tr>\n",
       "\t<tr><td>2019072203</td><td> 50       </td></tr>\n",
       "\t<tr><td>2019072401</td><td>105       </td></tr>\n",
       "\t<tr><td>...</td><td>...</td></tr>\n",
       "\t<tr><td>2019122603</td><td> 35       </td></tr>\n",
       "\t<tr><td>2019122604</td><td>264       </td></tr>\n",
       "\t<tr><td>2019122605</td><td>100       </td></tr>\n",
       "\t<tr><td>2019122701</td><td>100       </td></tr>\n",
       "\t<tr><td>2019122702</td><td> 86       </td></tr>\n",
       "\t<tr><td>2019122703</td><td> 86       </td></tr>\n",
       "\t<tr><td>2019122704</td><td> 48       </td></tr>\n",
       "\t<tr><td>2019122706</td><td> 24       </td></tr>\n",
       "\t<tr><td>2019122801</td><td>215       </td></tr>\n",
       "\t<tr><td>2019122802</td><td> 60       </td></tr>\n",
       "\t<tr><td>2019122803</td><td> 50       </td></tr>\n",
       "\t<tr><td>2019122804</td><td> 86       </td></tr>\n",
       "\t<tr><td>2019122805</td><td> 17       </td></tr>\n",
       "\t<tr><td>2019122806</td><td>240       </td></tr>\n",
       "\t<tr><td>2019122807</td><td> 34       </td></tr>\n",
       "\t<tr><td>2019122808</td><td> 10       </td></tr>\n",
       "\t<tr><td>2019122809</td><td>140       </td></tr>\n",
       "\t<tr><td>2019122810</td><td> 86       </td></tr>\n",
       "\t<tr><td>2019122901</td><td>172       </td></tr>\n",
       "\t<tr><td>2019122902</td><td> 34       </td></tr>\n",
       "\t<tr><td>2019123002</td><td> 51       </td></tr>\n",
       "\t<tr><td>2019123003</td><td>192       </td></tr>\n",
       "\t<tr><td>2019123005</td><td> 70       </td></tr>\n",
       "\t<tr><td>2019123006</td><td> 43       </td></tr>\n",
       "\t<tr><td>2019123101</td><td>140       </td></tr>\n",
       "\t<tr><td>2019123102</td><td>100       </td></tr>\n",
       "\t<tr><td>2019123104</td><td> 30       </td></tr>\n",
       "\t<tr><td>2019123105</td><td>192       </td></tr>\n",
       "\t<tr><td>2019123106</td><td>210       </td></tr>\n",
       "\t<tr><td>2019123107</td><td>172       </td></tr>\n",
       "</tbody>\n",
       "</table>\n"
      ],
      "text/latex": [
       "\\begin{tabular}{r|ll}\n",
       " reserv\\_no & amt\\_daily\\\\\n",
       "\\hline\n",
       "\t 2019060301 & 140       \\\\\n",
       "\t 2019060601 & 152       \\\\\n",
       "\t 2019060701 &  48       \\\\\n",
       "\t 2019061601 & 105       \\\\\n",
       "\t 2019061801 &  48       \\\\\n",
       "\t 2019062001 &  10       \\\\\n",
       "\t 2019062201 &  48       \\\\\n",
       "\t 2019062601 &   8       \\\\\n",
       "\t 2019062901 &  54       \\\\\n",
       "\t 2019070101 &  50       \\\\\n",
       "\t 2019070102 & 100       \\\\\n",
       "\t 2019070302 &  50       \\\\\n",
       "\t 2019070501 &  48       \\\\\n",
       "\t 2019070702 &  46       \\\\\n",
       "\t 2019070801 &  70       \\\\\n",
       "\t 2019071001 &  48       \\\\\n",
       "\t 2019071002 & 105       \\\\\n",
       "\t 2019071101 &  58       \\\\\n",
       "\t 2019071201 &  49       \\\\\n",
       "\t 2019071401 &  17       \\\\\n",
       "\t 2019071501 &  36       \\\\\n",
       "\t 2019071601 &  75       \\\\\n",
       "\t 2019071602 &  10       \\\\\n",
       "\t 2019071801 & 140       \\\\\n",
       "\t 2019071901 &  73       \\\\\n",
       "\t 2019072002 &  10       \\\\\n",
       "\t 2019072101 &   6       \\\\\n",
       "\t 2019072102 &  17       \\\\\n",
       "\t 2019072203 &  50       \\\\\n",
       "\t 2019072401 & 105       \\\\\n",
       "\t ... & ...\\\\\n",
       "\t 2019122603 &  35       \\\\\n",
       "\t 2019122604 & 264       \\\\\n",
       "\t 2019122605 & 100       \\\\\n",
       "\t 2019122701 & 100       \\\\\n",
       "\t 2019122702 &  86       \\\\\n",
       "\t 2019122703 &  86       \\\\\n",
       "\t 2019122704 &  48       \\\\\n",
       "\t 2019122706 &  24       \\\\\n",
       "\t 2019122801 & 215       \\\\\n",
       "\t 2019122802 &  60       \\\\\n",
       "\t 2019122803 &  50       \\\\\n",
       "\t 2019122804 &  86       \\\\\n",
       "\t 2019122805 &  17       \\\\\n",
       "\t 2019122806 & 240       \\\\\n",
       "\t 2019122807 &  34       \\\\\n",
       "\t 2019122808 &  10       \\\\\n",
       "\t 2019122809 & 140       \\\\\n",
       "\t 2019122810 &  86       \\\\\n",
       "\t 2019122901 & 172       \\\\\n",
       "\t 2019122902 &  34       \\\\\n",
       "\t 2019123002 &  51       \\\\\n",
       "\t 2019123003 & 192       \\\\\n",
       "\t 2019123005 &  70       \\\\\n",
       "\t 2019123006 &  43       \\\\\n",
       "\t 2019123101 & 140       \\\\\n",
       "\t 2019123102 & 100       \\\\\n",
       "\t 2019123104 &  30       \\\\\n",
       "\t 2019123105 & 192       \\\\\n",
       "\t 2019123106 & 210       \\\\\n",
       "\t 2019123107 & 172       \\\\\n",
       "\\end{tabular}\n"
      ],
      "text/markdown": [
       "\n",
       "| reserv_no | amt_daily |\n",
       "|---|---|\n",
       "| 2019060301 | 140        |\n",
       "| 2019060601 | 152        |\n",
       "| 2019060701 |  48        |\n",
       "| 2019061601 | 105        |\n",
       "| 2019061801 |  48        |\n",
       "| 2019062001 |  10        |\n",
       "| 2019062201 |  48        |\n",
       "| 2019062601 |   8        |\n",
       "| 2019062901 |  54        |\n",
       "| 2019070101 |  50        |\n",
       "| 2019070102 | 100        |\n",
       "| 2019070302 |  50        |\n",
       "| 2019070501 |  48        |\n",
       "| 2019070702 |  46        |\n",
       "| 2019070801 |  70        |\n",
       "| 2019071001 |  48        |\n",
       "| 2019071002 | 105        |\n",
       "| 2019071101 |  58        |\n",
       "| 2019071201 |  49        |\n",
       "| 2019071401 |  17        |\n",
       "| 2019071501 |  36        |\n",
       "| 2019071601 |  75        |\n",
       "| 2019071602 |  10        |\n",
       "| 2019071801 | 140        |\n",
       "| 2019071901 |  73        |\n",
       "| 2019072002 |  10        |\n",
       "| 2019072101 |   6        |\n",
       "| 2019072102 |  17        |\n",
       "| 2019072203 |  50        |\n",
       "| 2019072401 | 105        |\n",
       "| ... | ... |\n",
       "| 2019122603 |  35        |\n",
       "| 2019122604 | 264        |\n",
       "| 2019122605 | 100        |\n",
       "| 2019122701 | 100        |\n",
       "| 2019122702 |  86        |\n",
       "| 2019122703 |  86        |\n",
       "| 2019122704 |  48        |\n",
       "| 2019122706 |  24        |\n",
       "| 2019122801 | 215        |\n",
       "| 2019122802 |  60        |\n",
       "| 2019122803 |  50        |\n",
       "| 2019122804 |  86        |\n",
       "| 2019122805 |  17        |\n",
       "| 2019122806 | 240        |\n",
       "| 2019122807 |  34        |\n",
       "| 2019122808 |  10        |\n",
       "| 2019122809 | 140        |\n",
       "| 2019122810 |  86        |\n",
       "| 2019122901 | 172        |\n",
       "| 2019122902 |  34        |\n",
       "| 2019123002 |  51        |\n",
       "| 2019123003 | 192        |\n",
       "| 2019123005 |  70        |\n",
       "| 2019123006 |  43        |\n",
       "| 2019123101 | 140        |\n",
       "| 2019123102 | 100        |\n",
       "| 2019123104 |  30        |\n",
       "| 2019123105 | 192        |\n",
       "| 2019123106 | 210        |\n",
       "| 2019123107 | 172        |\n",
       "\n"
      ],
      "text/plain": [
       "    reserv_no  amt_daily\n",
       "1   2019060301 140      \n",
       "2   2019060601 152      \n",
       "3   2019060701  48      \n",
       "4   2019061601 105      \n",
       "5   2019061801  48      \n",
       "6   2019062001  10      \n",
       "7   2019062201  48      \n",
       "8   2019062601   8      \n",
       "9   2019062901  54      \n",
       "10  2019070101  50      \n",
       "11  2019070102 100      \n",
       "12  2019070302  50      \n",
       "13  2019070501  48      \n",
       "14  2019070702  46      \n",
       "15  2019070801  70      \n",
       "16  2019071001  48      \n",
       "17  2019071002 105      \n",
       "18  2019071101  58      \n",
       "19  2019071201  49      \n",
       "20  2019071401  17      \n",
       "21  2019071501  36      \n",
       "22  2019071601  75      \n",
       "23  2019071602  10      \n",
       "24  2019071801 140      \n",
       "25  2019071901  73      \n",
       "26  2019072002  10      \n",
       "27  2019072101   6      \n",
       "28  2019072102  17      \n",
       "29  2019072203  50      \n",
       "30  2019072401 105      \n",
       "... ...        ...      \n",
       "308 2019122603  35      \n",
       "309 2019122604 264      \n",
       "310 2019122605 100      \n",
       "311 2019122701 100      \n",
       "312 2019122702  86      \n",
       "313 2019122703  86      \n",
       "314 2019122704  48      \n",
       "315 2019122706  24      \n",
       "316 2019122801 215      \n",
       "317 2019122802  60      \n",
       "318 2019122803  50      \n",
       "319 2019122804  86      \n",
       "320 2019122805  17      \n",
       "321 2019122806 240      \n",
       "322 2019122807  34      \n",
       "323 2019122808  10      \n",
       "324 2019122809 140      \n",
       "325 2019122810  86      \n",
       "326 2019122901 172      \n",
       "327 2019122902  34      \n",
       "328 2019123002  51      \n",
       "329 2019123003 192      \n",
       "330 2019123005  70      \n",
       "331 2019123006  43      \n",
       "332 2019123101 140      \n",
       "333 2019123102 100      \n",
       "334 2019123104  30      \n",
       "335 2019123105 192      \n",
       "336 2019123106 210      \n",
       "337 2019123107 172      "
      ]
     },
     "metadata": {},
     "output_type": "display_data"
    }
   ],
   "source": [
    "total_amt <- order_info_r %>%\n",
    "    group_by(reserv_no) %>%\n",
    "    summarise(amt_daily = sum(sales/1000)) %>%\n",
    "    arrange(reserv_no)\n",
    "\n",
    "total_amt"
   ]
  },
  {
   "cell_type": "code",
   "execution_count": 9,
   "id": "elder-coach",
   "metadata": {},
   "outputs": [
    {
     "name": "stderr",
     "output_type": "stream",
     "text": [
      "Registered S3 methods overwritten by 'ggplot2':\n",
      "  method         from \n",
      "  [.quosures     rlang\n",
      "  c.quosures     rlang\n",
      "  print.quosures rlang\n"
     ]
    },
    {
     "data": {
      "image/png": "[encoded data removed]",
      "text/plain": [
       "plot without title"
      ]
     },
     "metadata": {},
     "output_type": "display_data"
    }
   ],
   "source": [
    "library(\"ggplot2\")\n",
    "ggplot(total_amt, aes(x = reserv_no, y = amt_daily, group = 1)) + geom_line()"
   ]
  },
  {
   "cell_type": "code",
   "execution_count": 10,
   "id": "adjacent-blair",
   "metadata": {},
   "outputs": [
    {
     "data": {
      "text/html": [
       "<table>\n",
       "<thead><tr><th scope=col>month</th><th scope=col>amt_monthly</th></tr></thead>\n",
       "<tbody>\n",
       "\t<tr><td>201906</td><td>  613 </td></tr>\n",
       "\t<tr><td>201907</td><td> 1744 </td></tr>\n",
       "\t<tr><td>201908</td><td> 1622 </td></tr>\n",
       "\t<tr><td>201909</td><td> 1586 </td></tr>\n",
       "\t<tr><td>201910</td><td> 3333 </td></tr>\n",
       "\t<tr><td>201911</td><td> 5197 </td></tr>\n",
       "\t<tr><td>201912</td><td>10862 </td></tr>\n",
       "</tbody>\n",
       "</table>\n"
      ],
      "text/latex": [
       "\\begin{tabular}{r|ll}\n",
       " month & amt\\_monthly\\\\\n",
       "\\hline\n",
       "\t 201906 &   613 \\\\\n",
       "\t 201907 &  1744 \\\\\n",
       "\t 201908 &  1622 \\\\\n",
       "\t 201909 &  1586 \\\\\n",
       "\t 201910 &  3333 \\\\\n",
       "\t 201911 &  5197 \\\\\n",
       "\t 201912 & 10862 \\\\\n",
       "\\end{tabular}\n"
      ],
      "text/markdown": [
       "\n",
       "| month | amt_monthly |\n",
       "|---|---|\n",
       "| 201906 |   613  |\n",
       "| 201907 |  1744  |\n",
       "| 201908 |  1622  |\n",
       "| 201909 |  1586  |\n",
       "| 201910 |  3333  |\n",
       "| 201911 |  5197  |\n",
       "| 201912 | 10862  |\n",
       "\n"
      ],
      "text/plain": [
       "  month  amt_monthly\n",
       "1 201906   613      \n",
       "2 201907  1744      \n",
       "3 201908  1622      \n",
       "4 201909  1586      \n",
       "5 201910  3333      \n",
       "6 201911  5197      \n",
       "7 201912 10862      "
      ]
     },
     "metadata": {},
     "output_type": "display_data"
    }
   ],
   "source": [
    "total_amt <- order_info_r %>%\n",
    "    mutate(month = substr(reserv_no, 1, 6)) %>%\n",
    "    group_by(month) %>%\n",
    "    summarise(amt_monthly = sum(sales/1000))\n",
    "\n",
    "total_amt "
   ]
  },
  {
   "cell_type": "code",
   "execution_count": 11,
   "id": "published-mills",
   "metadata": {},
   "outputs": [
    {
     "data": {
      "image/png": "[encoded data removed]",
      "text/plain": [
       "plot without title"
      ]
     },
     "metadata": {},
     "output_type": "display_data"
    }
   ],
   "source": [
    "ggplot(total_amt, aes(x = month, y = amt_monthly, group = 1)) + geom_line()"
   ]
  },
  {
   "cell_type": "code",
   "execution_count": 12,
   "id": "public-party",
   "metadata": {},
   "outputs": [
    {
     "data": {
      "image/png": "[encoded data removed]",
      "text/plain": [
       "plot without title"
      ]
     },
     "metadata": {},
     "output_type": "display_data"
    }
   ],
   "source": [
    "ggplot(total_amt, aes(x = month, y = amt_monthly, group = 1)) +\n",
    "    geom_line() +\n",
    "    geom_point()"
   ]
  },
  {
   "cell_type": "code",
   "execution_count": 13,
   "id": "social-collect",
   "metadata": {},
   "outputs": [
    {
     "data": {
      "image/png": "[encoded data removed]",
      "text/plain": [
       "plot without title"
      ]
     },
     "metadata": {},
     "output_type": "display_data"
    }
   ],
   "source": [
    "ggplot(total_amt, aes(x = month, y = amt_monthly, group = 1, label = amt_monthly)) +\n",
    "    geom_line(color = \"red\", size = 1) +\n",
    "    geom_point(color = \"darkred\", size = 3) +\n",
    "    geom_text(vjust = 1.5, hjust = 0.5)"
   ]
  },
  {
   "cell_type": "code",
   "execution_count": 14,
   "id": "competent-arlington",
   "metadata": {},
   "outputs": [
    {
     "data": {
      "text/html": [
       "<table>\n",
       "<thead><tr><th></th><th scope=col>len</th><th scope=col>supp</th><th scope=col>dose</th></tr></thead>\n",
       "<tbody>\n",
       "\t<tr><th scope=row>55</th><td>24.8</td><td>OJ  </td><td>2   </td></tr>\n",
       "\t<tr><th scope=row>56</th><td>30.9</td><td>OJ  </td><td>2   </td></tr>\n",
       "\t<tr><th scope=row>57</th><td>26.4</td><td>OJ  </td><td>2   </td></tr>\n",
       "\t<tr><th scope=row>58</th><td>27.3</td><td>OJ  </td><td>2   </td></tr>\n",
       "\t<tr><th scope=row>59</th><td>29.4</td><td>OJ  </td><td>2   </td></tr>\n",
       "\t<tr><th scope=row>60</th><td>23.0</td><td>OJ  </td><td>2   </td></tr>\n",
       "</tbody>\n",
       "</table>\n"
      ],
      "text/latex": [
       "\\begin{tabular}{r|lll}\n",
       "  & len & supp & dose\\\\\n",
       "\\hline\n",
       "\t55 & 24.8 & OJ   & 2   \\\\\n",
       "\t56 & 30.9 & OJ   & 2   \\\\\n",
       "\t57 & 26.4 & OJ   & 2   \\\\\n",
       "\t58 & 27.3 & OJ   & 2   \\\\\n",
       "\t59 & 29.4 & OJ   & 2   \\\\\n",
       "\t60 & 23.0 & OJ   & 2   \\\\\n",
       "\\end{tabular}\n"
      ],
      "text/markdown": [
       "\n",
       "| <!--/--> | len | supp | dose |\n",
       "|---|---|---|---|\n",
       "| 55 | 24.8 | OJ   | 2    |\n",
       "| 56 | 30.9 | OJ   | 2    |\n",
       "| 57 | 26.4 | OJ   | 2    |\n",
       "| 58 | 27.3 | OJ   | 2    |\n",
       "| 59 | 29.4 | OJ   | 2    |\n",
       "| 60 | 23.0 | OJ   | 2    |\n",
       "\n"
      ],
      "text/plain": [
       "   len  supp dose\n",
       "55 24.8 OJ   2   \n",
       "56 30.9 OJ   2   \n",
       "57 26.4 OJ   2   \n",
       "58 27.3 OJ   2   \n",
       "59 29.4 OJ   2   \n",
       "60 23.0 OJ   2   "
      ]
     },
     "metadata": {},
     "output_type": "display_data"
    }
   ],
   "source": [
    "tail(ToothGrowth)"
   ]
  },
  {
   "cell_type": "code",
   "execution_count": 19,
   "id": "bronze-activity",
   "metadata": {},
   "outputs": [],
   "source": [
    "df <- ToothGrowth  %>% \n",
    "      group_by(dose) %>% \n",
    "      summarise(sd=sd(len), len=mean(len))"
   ]
  },
  {
   "cell_type": "code",
   "execution_count": 20,
   "id": "affected-integrity",
   "metadata": {},
   "outputs": [
    {
     "data": {
      "text/html": [
       "<table>\n",
       "<thead><tr><th scope=col>dose</th><th scope=col>sd</th><th scope=col>len</th></tr></thead>\n",
       "<tbody>\n",
       "\t<tr><td>0.5     </td><td>4.499763</td><td>10.605  </td></tr>\n",
       "\t<tr><td>1.0     </td><td>4.415436</td><td>19.735  </td></tr>\n",
       "\t<tr><td>2.0     </td><td>3.774150</td><td>26.100  </td></tr>\n",
       "</tbody>\n",
       "</table>\n"
      ],
      "text/latex": [
       "\\begin{tabular}{r|lll}\n",
       " dose & sd & len\\\\\n",
       "\\hline\n",
       "\t 0.5      & 4.499763 & 10.605  \\\\\n",
       "\t 1.0      & 4.415436 & 19.735  \\\\\n",
       "\t 2.0      & 3.774150 & 26.100  \\\\\n",
       "\\end{tabular}\n"
      ],
      "text/markdown": [
       "\n",
       "| dose | sd | len |\n",
       "|---|---|---|\n",
       "| 0.5      | 4.499763 | 10.605   |\n",
       "| 1.0      | 4.415436 | 19.735   |\n",
       "| 2.0      | 3.774150 | 26.100   |\n",
       "\n"
      ],
      "text/plain": [
       "  dose sd       len   \n",
       "1 0.5  4.499763 10.605\n",
       "2 1.0  4.415436 19.735\n",
       "3 2.0  3.774150 26.100"
      ]
     },
     "metadata": {},
     "output_type": "display_data"
    }
   ],
   "source": [
    "df"
   ]
  },
  {
   "cell_type": "code",
   "execution_count": 25,
   "id": "meaningful-saudi",
   "metadata": {},
   "outputs": [
    {
     "name": "stderr",
     "output_type": "stream",
     "text": [
      "Warning message:\n",
      "\"Ignoring unknown aesthetics: ground\""
     ]
    },
    {
     "data": {
      "image/png": "[encoded data removed]",
      "text/plain": [
       "plot without title"
      ]
     },
     "metadata": {},
     "output_type": "display_data"
    }
   ],
   "source": [
    "ggplot(df,aes(dose,len)) +\n",
    "        geom_line(aes(ground=1))+ # geon_line 그래프를 그릴때는 반드시 ground를 지정해야 한다.\n",
    "        geom_point(size=2)"
   ]
  },
  {
   "cell_type": "code",
   "execution_count": 30,
   "id": "equivalent-trigger",
   "metadata": {},
   "outputs": [
    {
     "name": "stderr",
     "output_type": "stream",
     "text": [
      "`summarise()` has grouped output by 'dose'. You can override using the `.groups` argument.\n"
     ]
    }
   ],
   "source": [
    "df2 <- ToothGrowth %>% \n",
    "    group_by(dose, supp) %>% \n",
    "    summarise(sd=sd(len),len=mean(len))"
   ]
  },
  {
   "cell_type": "code",
   "execution_count": 31,
   "id": "standing-squad",
   "metadata": {},
   "outputs": [
    {
     "data": {
      "text/html": [
       "<table>\n",
       "<thead><tr><th scope=col>dose</th><th scope=col>supp</th><th scope=col>sd</th><th scope=col>len</th></tr></thead>\n",
       "<tbody>\n",
       "\t<tr><td>0.5     </td><td>OJ      </td><td>4.459709</td><td>13.23   </td></tr>\n",
       "\t<tr><td>0.5     </td><td>VC      </td><td>2.746634</td><td> 7.98   </td></tr>\n",
       "\t<tr><td>1.0     </td><td>OJ      </td><td>3.910953</td><td>22.70   </td></tr>\n",
       "\t<tr><td>1.0     </td><td>VC      </td><td>2.515309</td><td>16.77   </td></tr>\n",
       "\t<tr><td>2.0     </td><td>OJ      </td><td>2.655058</td><td>26.06   </td></tr>\n",
       "\t<tr><td>2.0     </td><td>VC      </td><td>4.797731</td><td>26.14   </td></tr>\n",
       "</tbody>\n",
       "</table>\n"
      ],
      "text/latex": [
       "\\begin{tabular}{r|llll}\n",
       " dose & supp & sd & len\\\\\n",
       "\\hline\n",
       "\t 0.5      & OJ       & 4.459709 & 13.23   \\\\\n",
       "\t 0.5      & VC       & 2.746634 &  7.98   \\\\\n",
       "\t 1.0      & OJ       & 3.910953 & 22.70   \\\\\n",
       "\t 1.0      & VC       & 2.515309 & 16.77   \\\\\n",
       "\t 2.0      & OJ       & 2.655058 & 26.06   \\\\\n",
       "\t 2.0      & VC       & 4.797731 & 26.14   \\\\\n",
       "\\end{tabular}\n"
      ],
      "text/markdown": [
       "\n",
       "| dose | supp | sd | len |\n",
       "|---|---|---|---|\n",
       "| 0.5      | OJ       | 4.459709 | 13.23    |\n",
       "| 0.5      | VC       | 2.746634 |  7.98    |\n",
       "| 1.0      | OJ       | 3.910953 | 22.70    |\n",
       "| 1.0      | VC       | 2.515309 | 16.77    |\n",
       "| 2.0      | OJ       | 2.655058 | 26.06    |\n",
       "| 2.0      | VC       | 4.797731 | 26.14    |\n",
       "\n"
      ],
      "text/plain": [
       "  dose supp sd       len  \n",
       "1 0.5  OJ   4.459709 13.23\n",
       "2 0.5  VC   2.746634  7.98\n",
       "3 1.0  OJ   3.910953 22.70\n",
       "4 1.0  VC   2.515309 16.77\n",
       "5 2.0  OJ   2.655058 26.06\n",
       "6 2.0  VC   4.797731 26.14"
      ]
     },
     "metadata": {},
     "output_type": "display_data"
    }
   ],
   "source": [
    "df2"
   ]
  },
  {
   "cell_type": "code",
   "execution_count": 32,
   "id": "roman-extent",
   "metadata": {},
   "outputs": [
    {
     "data": {
      "image/png": "[encoded data removed]",
      "text/plain": [
       "plot without title"
      ]
     },
     "metadata": {},
     "output_type": "display_data"
    }
   ],
   "source": [
    "ggplot(df2,aes(dose, len))+\n",
    "    geom_line(aes(group=supp))"
   ]
  },
  {
   "cell_type": "code",
   "execution_count": 34,
   "id": "revised-password",
   "metadata": {},
   "outputs": [
    {
     "data": {
      "image/png": "[encoded data removed]",
      "text/plain": [
       "plot without title"
      ]
     },
     "metadata": {},
     "output_type": "display_data"
    }
   ],
   "source": [
    "ggplot(df2,aes(dose,len)) +\n",
    "    geom_line(aes(group=supp,linetype=supp)) +\n",
    "    geom_point(size=2)"
   ]
  },
  {
   "cell_type": "code",
   "execution_count": 35,
   "id": "eight-hypothesis",
   "metadata": {},
   "outputs": [],
   "source": [
    "df_boxplot_graph <- inner_join(order_info_r, item_r, by = \"item_id\")"
   ]
  },
  {
   "cell_type": "code",
   "execution_count": 36,
   "id": "public-hotel",
   "metadata": {
    "scrolled": false
   },
   "outputs": [
    {
     "data": {
      "image/png": "[encoded data removed]",
      "text/plain": [
       "plot without title"
      ]
     },
     "metadata": {},
     "output_type": "display_data"
    }
   ],
   "source": [
    "ggplot(df_boxplot_graph, aes(x = product_name, y = sales/1000)) +\n",
    "    geom_boxplot(width = 0.8, outlier.size = 2, outlier.colour = \"red\") +\n",
    "    labs(title = \"메뉴아이템 상자그림\", x = \"메뉴\", y = \"매출\")"
   ]
  },
  {
   "cell_type": "code",
   "execution_count": null,
   "id": "revised-slave",
   "metadata": {},
   "outputs": [],
   "source": []
  }
 ],
 "metadata": {
  "kernelspec": {
   "display_name": "R",
   "language": "R",
   "name": "ir"
  },
  "language_info": {
   "codemirror_mode": "r",
   "file_extension": ".r",
   "mimetype": "text/x-r-source",
   "name": "R",
   "pygments_lexer": "r",
   "version": "3.6.1"
  }
 },
 "nbformat": 4,
 "nbformat_minor": 5
}
