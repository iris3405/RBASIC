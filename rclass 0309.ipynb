{
 "cells": [
  {
   "cell_type": "code",
   "execution_count": 2,
   "id": "growing-default",
   "metadata": {},
   "outputs": [],
   "source": [
    "x  <-  read.csv(\"reservation_r_csv.csv\")"
   ]
  },
  {
   "cell_type": "code",
   "execution_count": 3,
   "id": "hawaiian-international",
   "metadata": {},
   "outputs": [
    {
     "data": {
      "text/html": [
       "<table>\n",
       "<thead><tr><th scope=col>RESERV_NO</th><th scope=col>RESERV_DATE</th><th scope=col>RESERV_TIME</th><th scope=col>CUSTOMER_ID</th><th scope=col>BRANCH</th><th scope=col>VISITOR_CNT</th><th scope=col>CANCEL</th></tr></thead>\n",
       "<tbody>\n",
       "\t<tr><td>2019082701</td><td>20190827  </td><td>1800      </td><td>W1340914  </td><td>마포      </td><td>2         </td><td>N         </td></tr>\n",
       "\t<tr><td>2019082602</td><td>20190826  </td><td>1200      </td><td>W341658   </td><td>동작      </td><td>5         </td><td>N         </td></tr>\n",
       "\t<tr><td>2019082601</td><td>20190826  </td><td>1800      </td><td>W1328993  </td><td>강북      </td><td>4         </td><td>N         </td></tr>\n",
       "\t<tr><td>2019082501</td><td>20190825  </td><td>1800      </td><td>W1340463  </td><td>용산      </td><td>2         </td><td>N         </td></tr>\n",
       "\t<tr><td>2019082401</td><td>20190824  </td><td>1200      </td><td>W1344912  </td><td>강동      </td><td>3         </td><td>N         </td></tr>\n",
       "\t<tr><td>2019082301</td><td>20190823  </td><td>1800      </td><td>W1344753  </td><td>영등포    </td><td>2         </td><td>N         </td></tr>\n",
       "</tbody>\n",
       "</table>\n"
      ],
      "text/latex": [
       "\\begin{tabular}{r|lllllll}\n",
       " RESERV\\_NO & RESERV\\_DATE & RESERV\\_TIME & CUSTOMER\\_ID & BRANCH & VISITOR\\_CNT & CANCEL\\\\\n",
       "\\hline\n",
       "\t 2019082701 & 20190827   & 1800       & W1340914   & 마포       & 2          & N         \\\\\n",
       "\t 2019082602 & 20190826   & 1200       & W341658    & 동작       & 5          & N         \\\\\n",
       "\t 2019082601 & 20190826   & 1800       & W1328993   & 강북       & 4          & N         \\\\\n",
       "\t 2019082501 & 20190825   & 1800       & W1340463   & 용산       & 2          & N         \\\\\n",
       "\t 2019082401 & 20190824   & 1200       & W1344912   & 강동       & 3          & N         \\\\\n",
       "\t 2019082301 & 20190823   & 1800       & W1344753   & 영등포     & 2          & N         \\\\\n",
       "\\end{tabular}\n"
      ],
      "text/markdown": [
       "\n",
       "| RESERV_NO | RESERV_DATE | RESERV_TIME | CUSTOMER_ID | BRANCH | VISITOR_CNT | CANCEL |\n",
       "|---|---|---|---|---|---|---|\n",
       "| 2019082701 | 20190827   | 1800       | W1340914   | 마포       | 2          | N          |\n",
       "| 2019082602 | 20190826   | 1200       | W341658    | 동작       | 5          | N          |\n",
       "| 2019082601 | 20190826   | 1800       | W1328993   | 강북       | 4          | N          |\n",
       "| 2019082501 | 20190825   | 1800       | W1340463   | 용산       | 2          | N          |\n",
       "| 2019082401 | 20190824   | 1200       | W1344912   | 강동       | 3          | N          |\n",
       "| 2019082301 | 20190823   | 1800       | W1344753   | 영등포     | 2          | N          |\n",
       "\n"
      ],
      "text/plain": [
       "  RESERV_NO  RESERV_DATE RESERV_TIME CUSTOMER_ID BRANCH VISITOR_CNT CANCEL\n",
       "1 2019082701 20190827    1800        W1340914    마포   2           N     \n",
       "2 2019082602 20190826    1200        W341658     동작   5           N     \n",
       "3 2019082601 20190826    1800        W1328993    강북   4           N     \n",
       "4 2019082501 20190825    1800        W1340463    용산   2           N     \n",
       "5 2019082401 20190824    1200        W1344912    강동   3           N     \n",
       "6 2019082301 20190823    1800        W1344753    영등포 2           N     "
      ]
     },
     "metadata": {},
     "output_type": "display_data"
    }
   ],
   "source": [
    "head(x)"
   ]
  },
  {
   "cell_type": "code",
   "execution_count": 1,
   "id": "seventh-wealth",
   "metadata": {},
   "outputs": [
    {
     "name": "stdout",
     "output_type": "stream",
     "text": [
      "package 'writexl' successfully unpacked and MD5 sums checked\n",
      "\n",
      "The downloaded binary packages are in\n",
      "\tC:\\Users\\Public\\Documents\\ESTsoft\\CreatorTemp\\RtmpQx06yz\\downloaded_packages\n"
     ]
    }
   ],
   "source": [
    "install.packages(\"writexl\")"
   ]
  },
  {
   "cell_type": "code",
   "execution_count": null,
   "id": "metropolitan-small",
   "metadata": {},
   "outputs": [],
   "source": []
  },
  {
   "cell_type": "code",
   "execution_count": 2,
   "id": "logical-presentation",
   "metadata": {},
   "outputs": [
    {
     "name": "stderr",
     "output_type": "stream",
     "text": [
      "Warning message:\n",
      "\"package 'writexl' was built under R version 3.6.3\""
     ]
    }
   ],
   "source": [
    "library(\"writexl\")"
   ]
  },
  {
   "cell_type": "code",
   "execution_count": 3,
   "id": "divided-lafayette",
   "metadata": {},
   "outputs": [
    {
     "name": "stdout",
     "output_type": "stream",
     "text": [
      "package 'readxl' successfully unpacked and MD5 sums checked\n"
     ]
    },
    {
     "name": "stderr",
     "output_type": "stream",
     "text": [
      "Warning message:\n",
      "\"cannot remove prior installation of package 'readxl'\"Warning message in file.copy(savedcopy, lib, recursive = TRUE):\n",
      "\"C:\\Users\\kych1\\anaconda3\\envs\\rclass\\Lib\\R\\library\\00LOCK\\readxl\\libs\\x64\\readxl.dll를 C:\\Users\\kych1\\anaconda3\\envs\\rclass\\Lib\\R\\library\\readxl\\libs\\x64\\readxl.dll로 복사하는데 문제가 발생했습니다: Permission denied\"Warning message:\n",
      "\"restored 'readxl'\""
     ]
    },
    {
     "name": "stdout",
     "output_type": "stream",
     "text": [
      "\n",
      "The downloaded binary packages are in\n",
      "\tC:\\Users\\Public\\Documents\\ESTsoft\\CreatorTemp\\RtmpQx06yz\\downloaded_packages\n"
     ]
    }
   ],
   "source": [
    "install.packages(\"readxl\")"
   ]
  },
  {
   "cell_type": "code",
   "execution_count": 4,
   "id": "empirical-beijing",
   "metadata": {},
   "outputs": [
    {
     "name": "stderr",
     "output_type": "stream",
     "text": [
      "Warning message:\n",
      "\"package 'readxl' was built under R version 3.6.3\""
     ]
    }
   ],
   "source": [
    "library(\"readxl\")"
   ]
  },
  {
   "cell_type": "code",
   "execution_count": 5,
   "id": "forward-hacker",
   "metadata": {},
   "outputs": [],
   "source": [
    "y <- read_excel(\"reservation_r_excel.xlsx\")"
   ]
  },
  {
   "cell_type": "code",
   "execution_count": null,
   "id": "oriental-complexity",
   "metadata": {},
   "outputs": [],
   "source": []
  },
  {
   "cell_type": "code",
   "execution_count": null,
   "id": "electrical-jungle",
   "metadata": {},
   "outputs": [],
   "source": []
  },
  {
   "cell_type": "code",
   "execution_count": null,
   "id": "according-joseph",
   "metadata": {},
   "outputs": [],
   "source": [
    "\n"
   ]
  },
  {
   "cell_type": "code",
   "execution_count": 7,
   "id": "institutional-knife",
   "metadata": {},
   "outputs": [],
   "source": [
    " write_xlsx(y,\"excel_output.xlsx\")"
   ]
  },
  {
   "cell_type": "code",
   "execution_count": 8,
   "id": "animal-honor",
   "metadata": {},
   "outputs": [
    {
     "data": {
      "text/html": [
       "<table>\n",
       "<thead><tr><th scope=col>RESERV_NO</th><th scope=col>RESERV_DATE</th><th scope=col>RESERV_TIME</th><th scope=col>CUSTOMER_ID</th><th scope=col>BRANCH</th><th scope=col>VISITOR_CNT</th><th scope=col>CANCEL</th></tr></thead>\n",
       "<tbody>\n",
       "\t<tr><td>2019082701</td><td>20190827  </td><td>1800      </td><td>W1340914  </td><td>마포      </td><td>2         </td><td>N         </td></tr>\n",
       "\t<tr><td>2019082602</td><td>20190826  </td><td>1200      </td><td>W341658   </td><td>동작      </td><td>5         </td><td>N         </td></tr>\n",
       "\t<tr><td>2019082601</td><td>20190826  </td><td>1800      </td><td>W1328993  </td><td>강북      </td><td>4         </td><td>N         </td></tr>\n",
       "\t<tr><td>2019082501</td><td>20190825  </td><td>1800      </td><td>W1340463  </td><td>용산      </td><td>2         </td><td>N         </td></tr>\n",
       "\t<tr><td>2019082401</td><td>20190824  </td><td>1200      </td><td>W1344912  </td><td>강동      </td><td>3         </td><td>N         </td></tr>\n",
       "\t<tr><td>2019082301</td><td>20190823  </td><td>1800      </td><td>W1344753  </td><td>영등포    </td><td>2         </td><td>N         </td></tr>\n",
       "</tbody>\n",
       "</table>\n"
      ],
      "text/latex": [
       "\\begin{tabular}{r|lllllll}\n",
       " RESERV\\_NO & RESERV\\_DATE & RESERV\\_TIME & CUSTOMER\\_ID & BRANCH & VISITOR\\_CNT & CANCEL\\\\\n",
       "\\hline\n",
       "\t 2019082701 & 20190827   & 1800       & W1340914   & 마포       & 2          & N         \\\\\n",
       "\t 2019082602 & 20190826   & 1200       & W341658    & 동작       & 5          & N         \\\\\n",
       "\t 2019082601 & 20190826   & 1800       & W1328993   & 강북       & 4          & N         \\\\\n",
       "\t 2019082501 & 20190825   & 1800       & W1340463   & 용산       & 2          & N         \\\\\n",
       "\t 2019082401 & 20190824   & 1200       & W1344912   & 강동       & 3          & N         \\\\\n",
       "\t 2019082301 & 20190823   & 1800       & W1344753   & 영등포     & 2          & N         \\\\\n",
       "\\end{tabular}\n"
      ],
      "text/markdown": [
       "\n",
       "| RESERV_NO | RESERV_DATE | RESERV_TIME | CUSTOMER_ID | BRANCH | VISITOR_CNT | CANCEL |\n",
       "|---|---|---|---|---|---|---|\n",
       "| 2019082701 | 20190827   | 1800       | W1340914   | 마포       | 2          | N          |\n",
       "| 2019082602 | 20190826   | 1200       | W341658    | 동작       | 5          | N          |\n",
       "| 2019082601 | 20190826   | 1800       | W1328993   | 강북       | 4          | N          |\n",
       "| 2019082501 | 20190825   | 1800       | W1340463   | 용산       | 2          | N          |\n",
       "| 2019082401 | 20190824   | 1200       | W1344912   | 강동       | 3          | N          |\n",
       "| 2019082301 | 20190823   | 1800       | W1344753   | 영등포     | 2          | N          |\n",
       "\n"
      ],
      "text/plain": [
       "  RESERV_NO  RESERV_DATE RESERV_TIME CUSTOMER_ID BRANCH VISITOR_CNT CANCEL\n",
       "1 2019082701 20190827    1800        W1340914    마포   2           N     \n",
       "2 2019082602 20190826    1200        W341658     동작   5           N     \n",
       "3 2019082601 20190826    1800        W1328993    강북   4           N     \n",
       "4 2019082501 20190825    1800        W1340463    용산   2           N     \n",
       "5 2019082401 20190824    1200        W1344912    강동   3           N     \n",
       "6 2019082301 20190823    1800        W1344753    영등포 2           N     "
      ]
     },
     "metadata": {},
     "output_type": "display_data"
    }
   ],
   "source": [
    "head(y)"
   ]
  },
  {
   "cell_type": "code",
   "execution_count": 10,
   "id": "fantastic-sperm",
   "metadata": {},
   "outputs": [],
   "source": [
    "library(help=datasets)"
   ]
  },
  {
   "cell_type": "code",
   "execution_count": 11,
   "id": "registered-collectible",
   "metadata": {},
   "outputs": [
    {
     "data": {
      "text/html": [
       "<table>\n",
       "<thead><tr><th scope=col>Sepal.Length</th><th scope=col>Sepal.Width</th><th scope=col>Petal.Length</th><th scope=col>Petal.Width</th><th scope=col>Species</th></tr></thead>\n",
       "<tbody>\n",
       "\t<tr><td>5.1   </td><td>3.5   </td><td>1.4   </td><td>0.2   </td><td>setosa</td></tr>\n",
       "\t<tr><td>4.9   </td><td>3.0   </td><td>1.4   </td><td>0.2   </td><td>setosa</td></tr>\n",
       "\t<tr><td>4.7   </td><td>3.2   </td><td>1.3   </td><td>0.2   </td><td>setosa</td></tr>\n",
       "\t<tr><td>4.6   </td><td>3.1   </td><td>1.5   </td><td>0.2   </td><td>setosa</td></tr>\n",
       "\t<tr><td>5.0   </td><td>3.6   </td><td>1.4   </td><td>0.2   </td><td>setosa</td></tr>\n",
       "\t<tr><td>5.4   </td><td>3.9   </td><td>1.7   </td><td>0.4   </td><td>setosa</td></tr>\n",
       "</tbody>\n",
       "</table>\n"
      ],
      "text/latex": [
       "\\begin{tabular}{r|lllll}\n",
       " Sepal.Length & Sepal.Width & Petal.Length & Petal.Width & Species\\\\\n",
       "\\hline\n",
       "\t 5.1    & 3.5    & 1.4    & 0.2    & setosa\\\\\n",
       "\t 4.9    & 3.0    & 1.4    & 0.2    & setosa\\\\\n",
       "\t 4.7    & 3.2    & 1.3    & 0.2    & setosa\\\\\n",
       "\t 4.6    & 3.1    & 1.5    & 0.2    & setosa\\\\\n",
       "\t 5.0    & 3.6    & 1.4    & 0.2    & setosa\\\\\n",
       "\t 5.4    & 3.9    & 1.7    & 0.4    & setosa\\\\\n",
       "\\end{tabular}\n"
      ],
      "text/markdown": [
       "\n",
       "| Sepal.Length | Sepal.Width | Petal.Length | Petal.Width | Species |\n",
       "|---|---|---|---|---|\n",
       "| 5.1    | 3.5    | 1.4    | 0.2    | setosa |\n",
       "| 4.9    | 3.0    | 1.4    | 0.2    | setosa |\n",
       "| 4.7    | 3.2    | 1.3    | 0.2    | setosa |\n",
       "| 4.6    | 3.1    | 1.5    | 0.2    | setosa |\n",
       "| 5.0    | 3.6    | 1.4    | 0.2    | setosa |\n",
       "| 5.4    | 3.9    | 1.7    | 0.4    | setosa |\n",
       "\n"
      ],
      "text/plain": [
       "  Sepal.Length Sepal.Width Petal.Length Petal.Width Species\n",
       "1 5.1          3.5         1.4          0.2         setosa \n",
       "2 4.9          3.0         1.4          0.2         setosa \n",
       "3 4.7          3.2         1.3          0.2         setosa \n",
       "4 4.6          3.1         1.5          0.2         setosa \n",
       "5 5.0          3.6         1.4          0.2         setosa \n",
       "6 5.4          3.9         1.7          0.4         setosa "
      ]
     },
     "metadata": {},
     "output_type": "display_data"
    }
   ],
   "source": [
    "head(iris)"
   ]
  },
  {
   "cell_type": "code",
   "execution_count": 12,
   "id": "restricted-convention",
   "metadata": {},
   "outputs": [
    {
     "data": {
      "text/html": [
       "<table>\n",
       "<thead><tr><th scope=col>Sepal.Length</th><th scope=col>Sepal.Width</th><th scope=col>Petal.Length</th><th scope=col>Petal.Width</th><th scope=col>Species</th></tr></thead>\n",
       "<tbody>\n",
       "\t<tr><td>5.1   </td><td>3.5   </td><td>1.4   </td><td>0.2   </td><td>setosa</td></tr>\n",
       "\t<tr><td>4.9   </td><td>3.0   </td><td>1.4   </td><td>0.2   </td><td>setosa</td></tr>\n",
       "\t<tr><td>4.7   </td><td>3.2   </td><td>1.3   </td><td>0.2   </td><td>setosa</td></tr>\n",
       "\t<tr><td>4.6   </td><td>3.1   </td><td>1.5   </td><td>0.2   </td><td>setosa</td></tr>\n",
       "\t<tr><td>5.0   </td><td>3.6   </td><td>1.4   </td><td>0.2   </td><td>setosa</td></tr>\n",
       "\t<tr><td>5.4   </td><td>3.9   </td><td>1.7   </td><td>0.4   </td><td>setosa</td></tr>\n",
       "\t<tr><td>4.6   </td><td>3.4   </td><td>1.4   </td><td>0.3   </td><td>setosa</td></tr>\n",
       "\t<tr><td>5.0   </td><td>3.4   </td><td>1.5   </td><td>0.2   </td><td>setosa</td></tr>\n",
       "\t<tr><td>4.4   </td><td>2.9   </td><td>1.4   </td><td>0.2   </td><td>setosa</td></tr>\n",
       "\t<tr><td>4.9   </td><td>3.1   </td><td>1.5   </td><td>0.1   </td><td>setosa</td></tr>\n",
       "</tbody>\n",
       "</table>\n"
      ],
      "text/latex": [
       "\\begin{tabular}{r|lllll}\n",
       " Sepal.Length & Sepal.Width & Petal.Length & Petal.Width & Species\\\\\n",
       "\\hline\n",
       "\t 5.1    & 3.5    & 1.4    & 0.2    & setosa\\\\\n",
       "\t 4.9    & 3.0    & 1.4    & 0.2    & setosa\\\\\n",
       "\t 4.7    & 3.2    & 1.3    & 0.2    & setosa\\\\\n",
       "\t 4.6    & 3.1    & 1.5    & 0.2    & setosa\\\\\n",
       "\t 5.0    & 3.6    & 1.4    & 0.2    & setosa\\\\\n",
       "\t 5.4    & 3.9    & 1.7    & 0.4    & setosa\\\\\n",
       "\t 4.6    & 3.4    & 1.4    & 0.3    & setosa\\\\\n",
       "\t 5.0    & 3.4    & 1.5    & 0.2    & setosa\\\\\n",
       "\t 4.4    & 2.9    & 1.4    & 0.2    & setosa\\\\\n",
       "\t 4.9    & 3.1    & 1.5    & 0.1    & setosa\\\\\n",
       "\\end{tabular}\n"
      ],
      "text/markdown": [
       "\n",
       "| Sepal.Length | Sepal.Width | Petal.Length | Petal.Width | Species |\n",
       "|---|---|---|---|---|\n",
       "| 5.1    | 3.5    | 1.4    | 0.2    | setosa |\n",
       "| 4.9    | 3.0    | 1.4    | 0.2    | setosa |\n",
       "| 4.7    | 3.2    | 1.3    | 0.2    | setosa |\n",
       "| 4.6    | 3.1    | 1.5    | 0.2    | setosa |\n",
       "| 5.0    | 3.6    | 1.4    | 0.2    | setosa |\n",
       "| 5.4    | 3.9    | 1.7    | 0.4    | setosa |\n",
       "| 4.6    | 3.4    | 1.4    | 0.3    | setosa |\n",
       "| 5.0    | 3.4    | 1.5    | 0.2    | setosa |\n",
       "| 4.4    | 2.9    | 1.4    | 0.2    | setosa |\n",
       "| 4.9    | 3.1    | 1.5    | 0.1    | setosa |\n",
       "\n"
      ],
      "text/plain": [
       "   Sepal.Length Sepal.Width Petal.Length Petal.Width Species\n",
       "1  5.1          3.5         1.4          0.2         setosa \n",
       "2  4.9          3.0         1.4          0.2         setosa \n",
       "3  4.7          3.2         1.3          0.2         setosa \n",
       "4  4.6          3.1         1.5          0.2         setosa \n",
       "5  5.0          3.6         1.4          0.2         setosa \n",
       "6  5.4          3.9         1.7          0.4         setosa \n",
       "7  4.6          3.4         1.4          0.3         setosa \n",
       "8  5.0          3.4         1.5          0.2         setosa \n",
       "9  4.4          2.9         1.4          0.2         setosa \n",
       "10 4.9          3.1         1.5          0.1         setosa "
      ]
     },
     "metadata": {},
     "output_type": "display_data"
    }
   ],
   "source": [
    "head(iris,10)"
   ]
  },
  {
   "cell_type": "code",
   "execution_count": 13,
   "id": "helpful-logging",
   "metadata": {},
   "outputs": [
    {
     "data": {
      "text/html": [
       "<table>\n",
       "<thead><tr><th></th><th scope=col>Sepal.Length</th><th scope=col>Sepal.Width</th><th scope=col>Petal.Length</th><th scope=col>Petal.Width</th><th scope=col>Species</th></tr></thead>\n",
       "<tbody>\n",
       "\t<tr><th scope=row>145</th><td>6.7      </td><td>3.3      </td><td>5.7      </td><td>2.5      </td><td>virginica</td></tr>\n",
       "\t<tr><th scope=row>146</th><td>6.7      </td><td>3.0      </td><td>5.2      </td><td>2.3      </td><td>virginica</td></tr>\n",
       "\t<tr><th scope=row>147</th><td>6.3      </td><td>2.5      </td><td>5.0      </td><td>1.9      </td><td>virginica</td></tr>\n",
       "\t<tr><th scope=row>148</th><td>6.5      </td><td>3.0      </td><td>5.2      </td><td>2.0      </td><td>virginica</td></tr>\n",
       "\t<tr><th scope=row>149</th><td>6.2      </td><td>3.4      </td><td>5.4      </td><td>2.3      </td><td>virginica</td></tr>\n",
       "\t<tr><th scope=row>150</th><td>5.9      </td><td>3.0      </td><td>5.1      </td><td>1.8      </td><td>virginica</td></tr>\n",
       "</tbody>\n",
       "</table>\n"
      ],
      "text/latex": [
       "\\begin{tabular}{r|lllll}\n",
       "  & Sepal.Length & Sepal.Width & Petal.Length & Petal.Width & Species\\\\\n",
       "\\hline\n",
       "\t145 & 6.7       & 3.3       & 5.7       & 2.5       & virginica\\\\\n",
       "\t146 & 6.7       & 3.0       & 5.2       & 2.3       & virginica\\\\\n",
       "\t147 & 6.3       & 2.5       & 5.0       & 1.9       & virginica\\\\\n",
       "\t148 & 6.5       & 3.0       & 5.2       & 2.0       & virginica\\\\\n",
       "\t149 & 6.2       & 3.4       & 5.4       & 2.3       & virginica\\\\\n",
       "\t150 & 5.9       & 3.0       & 5.1       & 1.8       & virginica\\\\\n",
       "\\end{tabular}\n"
      ],
      "text/markdown": [
       "\n",
       "| <!--/--> | Sepal.Length | Sepal.Width | Petal.Length | Petal.Width | Species |\n",
       "|---|---|---|---|---|---|\n",
       "| 145 | 6.7       | 3.3       | 5.7       | 2.5       | virginica |\n",
       "| 146 | 6.7       | 3.0       | 5.2       | 2.3       | virginica |\n",
       "| 147 | 6.3       | 2.5       | 5.0       | 1.9       | virginica |\n",
       "| 148 | 6.5       | 3.0       | 5.2       | 2.0       | virginica |\n",
       "| 149 | 6.2       | 3.4       | 5.4       | 2.3       | virginica |\n",
       "| 150 | 5.9       | 3.0       | 5.1       | 1.8       | virginica |\n",
       "\n"
      ],
      "text/plain": [
       "    Sepal.Length Sepal.Width Petal.Length Petal.Width Species  \n",
       "145 6.7          3.3         5.7          2.5         virginica\n",
       "146 6.7          3.0         5.2          2.3         virginica\n",
       "147 6.3          2.5         5.0          1.9         virginica\n",
       "148 6.5          3.0         5.2          2.0         virginica\n",
       "149 6.2          3.4         5.4          2.3         virginica\n",
       "150 5.9          3.0         5.1          1.8         virginica"
      ]
     },
     "metadata": {},
     "output_type": "display_data"
    }
   ],
   "source": [
    "tail(iris)"
   ]
  },
  {
   "cell_type": "code",
   "execution_count": 14,
   "id": "circular-vinyl",
   "metadata": {},
   "outputs": [
    {
     "data": {
      "text/html": [
       "<table>\n",
       "<thead><tr><th></th><th scope=col>Sepal.Length</th><th scope=col>Sepal.Width</th><th scope=col>Petal.Length</th><th scope=col>Petal.Width</th><th scope=col>Species</th></tr></thead>\n",
       "<tbody>\n",
       "\t<tr><th scope=row>141</th><td>6.7      </td><td>3.1      </td><td>5.6      </td><td>2.4      </td><td>virginica</td></tr>\n",
       "\t<tr><th scope=row>142</th><td>6.9      </td><td>3.1      </td><td>5.1      </td><td>2.3      </td><td>virginica</td></tr>\n",
       "\t<tr><th scope=row>143</th><td>5.8      </td><td>2.7      </td><td>5.1      </td><td>1.9      </td><td>virginica</td></tr>\n",
       "\t<tr><th scope=row>144</th><td>6.8      </td><td>3.2      </td><td>5.9      </td><td>2.3      </td><td>virginica</td></tr>\n",
       "\t<tr><th scope=row>145</th><td>6.7      </td><td>3.3      </td><td>5.7      </td><td>2.5      </td><td>virginica</td></tr>\n",
       "\t<tr><th scope=row>146</th><td>6.7      </td><td>3.0      </td><td>5.2      </td><td>2.3      </td><td>virginica</td></tr>\n",
       "\t<tr><th scope=row>147</th><td>6.3      </td><td>2.5      </td><td>5.0      </td><td>1.9      </td><td>virginica</td></tr>\n",
       "\t<tr><th scope=row>148</th><td>6.5      </td><td>3.0      </td><td>5.2      </td><td>2.0      </td><td>virginica</td></tr>\n",
       "\t<tr><th scope=row>149</th><td>6.2      </td><td>3.4      </td><td>5.4      </td><td>2.3      </td><td>virginica</td></tr>\n",
       "\t<tr><th scope=row>150</th><td>5.9      </td><td>3.0      </td><td>5.1      </td><td>1.8      </td><td>virginica</td></tr>\n",
       "</tbody>\n",
       "</table>\n"
      ],
      "text/latex": [
       "\\begin{tabular}{r|lllll}\n",
       "  & Sepal.Length & Sepal.Width & Petal.Length & Petal.Width & Species\\\\\n",
       "\\hline\n",
       "\t141 & 6.7       & 3.1       & 5.6       & 2.4       & virginica\\\\\n",
       "\t142 & 6.9       & 3.1       & 5.1       & 2.3       & virginica\\\\\n",
       "\t143 & 5.8       & 2.7       & 5.1       & 1.9       & virginica\\\\\n",
       "\t144 & 6.8       & 3.2       & 5.9       & 2.3       & virginica\\\\\n",
       "\t145 & 6.7       & 3.3       & 5.7       & 2.5       & virginica\\\\\n",
       "\t146 & 6.7       & 3.0       & 5.2       & 2.3       & virginica\\\\\n",
       "\t147 & 6.3       & 2.5       & 5.0       & 1.9       & virginica\\\\\n",
       "\t148 & 6.5       & 3.0       & 5.2       & 2.0       & virginica\\\\\n",
       "\t149 & 6.2       & 3.4       & 5.4       & 2.3       & virginica\\\\\n",
       "\t150 & 5.9       & 3.0       & 5.1       & 1.8       & virginica\\\\\n",
       "\\end{tabular}\n"
      ],
      "text/markdown": [
       "\n",
       "| <!--/--> | Sepal.Length | Sepal.Width | Petal.Length | Petal.Width | Species |\n",
       "|---|---|---|---|---|---|\n",
       "| 141 | 6.7       | 3.1       | 5.6       | 2.4       | virginica |\n",
       "| 142 | 6.9       | 3.1       | 5.1       | 2.3       | virginica |\n",
       "| 143 | 5.8       | 2.7       | 5.1       | 1.9       | virginica |\n",
       "| 144 | 6.8       | 3.2       | 5.9       | 2.3       | virginica |\n",
       "| 145 | 6.7       | 3.3       | 5.7       | 2.5       | virginica |\n",
       "| 146 | 6.7       | 3.0       | 5.2       | 2.3       | virginica |\n",
       "| 147 | 6.3       | 2.5       | 5.0       | 1.9       | virginica |\n",
       "| 148 | 6.5       | 3.0       | 5.2       | 2.0       | virginica |\n",
       "| 149 | 6.2       | 3.4       | 5.4       | 2.3       | virginica |\n",
       "| 150 | 5.9       | 3.0       | 5.1       | 1.8       | virginica |\n",
       "\n"
      ],
      "text/plain": [
       "    Sepal.Length Sepal.Width Petal.Length Petal.Width Species  \n",
       "141 6.7          3.1         5.6          2.4         virginica\n",
       "142 6.9          3.1         5.1          2.3         virginica\n",
       "143 5.8          2.7         5.1          1.9         virginica\n",
       "144 6.8          3.2         5.9          2.3         virginica\n",
       "145 6.7          3.3         5.7          2.5         virginica\n",
       "146 6.7          3.0         5.2          2.3         virginica\n",
       "147 6.3          2.5         5.0          1.9         virginica\n",
       "148 6.5          3.0         5.2          2.0         virginica\n",
       "149 6.2          3.4         5.4          2.3         virginica\n",
       "150 5.9          3.0         5.1          1.8         virginica"
      ]
     },
     "metadata": {},
     "output_type": "display_data"
    }
   ],
   "source": [
    "tail(iris,10)"
   ]
  },
  {
   "cell_type": "code",
   "execution_count": 15,
   "id": "collect-spirituality",
   "metadata": {},
   "outputs": [
    {
     "data": {
      "text/plain": [
       "  Sepal.Length    Sepal.Width     Petal.Length    Petal.Width   \n",
       " Min.   :4.300   Min.   :2.000   Min.   :1.000   Min.   :0.100  \n",
       " 1st Qu.:5.100   1st Qu.:2.800   1st Qu.:1.600   1st Qu.:0.300  \n",
       " Median :5.800   Median :3.000   Median :4.350   Median :1.300  \n",
       " Mean   :5.843   Mean   :3.057   Mean   :3.758   Mean   :1.199  \n",
       " 3rd Qu.:6.400   3rd Qu.:3.300   3rd Qu.:5.100   3rd Qu.:1.800  \n",
       " Max.   :7.900   Max.   :4.400   Max.   :6.900   Max.   :2.500  \n",
       "       Species  \n",
       " setosa    :50  \n",
       " versicolor:50  \n",
       " virginica :50  \n",
       "                \n",
       "                \n",
       "                "
      ]
     },
     "metadata": {},
     "output_type": "display_data"
    }
   ],
   "source": [
    "summary(iris)"
   ]
  },
  {
   "cell_type": "code",
   "execution_count": 16,
   "id": "catholic-chosen",
   "metadata": {},
   "outputs": [
    {
     "data": {
      "text/plain": [
       "   Min. 1st Qu.  Median    Mean 3rd Qu.    Max. \n",
       "  4.300   5.100   5.800   5.843   6.400   7.900 "
      ]
     },
     "metadata": {},
     "output_type": "display_data"
    }
   ],
   "source": [
    "summary(iris$Sepal.Length)"
   ]
  },
  {
   "cell_type": "code",
   "execution_count": 17,
   "id": "peaceful-renaissance",
   "metadata": {},
   "outputs": [
    {
     "name": "stdout",
     "output_type": "stream",
     "text": [
      "'data.frame':\t150 obs. of  5 variables:\n",
      " $ Sepal.Length: num  5.1 4.9 4.7 4.6 5 5.4 4.6 5 4.4 4.9 ...\n",
      " $ Sepal.Width : num  3.5 3 3.2 3.1 3.6 3.9 3.4 3.4 2.9 3.1 ...\n",
      " $ Petal.Length: num  1.4 1.4 1.3 1.5 1.4 1.7 1.4 1.5 1.4 1.5 ...\n",
      " $ Petal.Width : num  0.2 0.2 0.2 0.2 0.2 0.4 0.3 0.2 0.2 0.1 ...\n",
      " $ Species     : Factor w/ 3 levels \"setosa\",\"versicolor\",..: 1 1 1 1 1 1 1 1 1 1 ...\n"
     ]
    }
   ],
   "source": [
    "str(iris)"
   ]
  },
  {
   "cell_type": "code",
   "execution_count": 18,
   "id": "unnecessary-leeds",
   "metadata": {},
   "outputs": [],
   "source": [
    "### hean() tail() str() 확인 "
   ]
  },
  {
   "cell_type": "code",
   "execution_count": 19,
   "id": "cross-probe",
   "metadata": {},
   "outputs": [
    {
     "ename": "ERROR",
     "evalue": "Error in View(iris): 'View()' not yet supported in the Jupyter R kernel\n",
     "output_type": "error",
     "traceback": [
      "Error in View(iris): 'View()' not yet supported in the Jupyter R kernel\nTraceback:\n",
      "1. View(iris)",
      "2. stop(sQuote(\"View()\"), \" not yet supported in the Jupyter R kernel\")"
     ]
    }
   ],
   "source": [
    "View(iris) #쥬피터는 안됨"
   ]
  },
  {
   "cell_type": "code",
   "execution_count": 20,
   "id": "brief-tongue",
   "metadata": {},
   "outputs": [],
   "source": [
    "## View 이것만 대문자"
   ]
  },
  {
   "cell_type": "code",
   "execution_count": 21,
   "id": "scenic-medicare",
   "metadata": {},
   "outputs": [
    {
     "data": {
      "text/html": [
       "<ol class=list-inline>\n",
       "\t<li>150</li>\n",
       "\t<li>5</li>\n",
       "</ol>\n"
      ],
      "text/latex": [
       "\\begin{enumerate*}\n",
       "\\item 150\n",
       "\\item 5\n",
       "\\end{enumerate*}\n"
      ],
      "text/markdown": [
       "1. 150\n",
       "2. 5\n",
       "\n",
       "\n"
      ],
      "text/plain": [
       "[1] 150   5"
      ]
     },
     "metadata": {},
     "output_type": "display_data"
    }
   ],
   "source": [
    "dim(iris) ## 세로 가로 데이타 살펴보기"
   ]
  },
  {
   "cell_type": "code",
   "execution_count": 22,
   "id": "aware-shoot",
   "metadata": {},
   "outputs": [
    {
     "data": {
      "text/html": [
       "5"
      ],
      "text/latex": [
       "5"
      ],
      "text/markdown": [
       "5"
      ],
      "text/plain": [
       "[1] 5"
      ]
     },
     "metadata": {},
     "output_type": "display_data"
    }
   ],
   "source": [
    "ncol(iris)"
   ]
  },
  {
   "cell_type": "code",
   "execution_count": 23,
   "id": "valid-response",
   "metadata": {},
   "outputs": [
    {
     "data": {
      "text/html": [
       "5"
      ],
      "text/latex": [
       "5"
      ],
      "text/markdown": [
       "5"
      ],
      "text/plain": [
       "[1] 5"
      ]
     },
     "metadata": {},
     "output_type": "display_data"
    }
   ],
   "source": [
    "length(iris) # 열의 길이"
   ]
  },
  {
   "cell_type": "code",
   "execution_count": 26,
   "id": "familiar-substitute",
   "metadata": {},
   "outputs": [
    {
     "data": {
      "text/html": [
       "'y'"
      ],
      "text/latex": [
       "'y'"
      ],
      "text/markdown": [
       "'y'"
      ],
      "text/plain": [
       "[1] \"y\""
      ]
     },
     "metadata": {},
     "output_type": "display_data"
    }
   ],
   "source": [
    "ls()"
   ]
  },
  {
   "cell_type": "code",
   "execution_count": 27,
   "id": "female-halloween",
   "metadata": {},
   "outputs": [],
   "source": [
    "rm(list = ls()) #변수목록 삭제"
   ]
  },
  {
   "cell_type": "code",
   "execution_count": 28,
   "id": "extraordinary-storm",
   "metadata": {},
   "outputs": [
    {
     "data": {
      "text/html": [],
      "text/latex": [],
      "text/markdown": [],
      "text/plain": [
       "character(0)"
      ]
     },
     "metadata": {},
     "output_type": "display_data"
    }
   ],
   "source": [
    "ls()"
   ]
  },
  {
   "cell_type": "code",
   "execution_count": 29,
   "id": "square-closure",
   "metadata": {},
   "outputs": [],
   "source": [
    "x  <- c(1,2,3,4,5)"
   ]
  },
  {
   "cell_type": "code",
   "execution_count": 30,
   "id": "separated-boutique",
   "metadata": {},
   "outputs": [
    {
     "data": {
      "text/plain": [
       "96 bytes"
      ]
     },
     "metadata": {},
     "output_type": "display_data"
    }
   ],
   "source": [
    "object.size(x)"
   ]
  },
  {
   "cell_type": "code",
   "execution_count": 31,
   "id": "sweet-washington",
   "metadata": {},
   "outputs": [
    {
     "data": {
      "text/html": [
       "<table>\n",
       "<thead><tr><th scope=col>Sepal.Length</th><th scope=col>Sepal.Width</th><th scope=col>Petal.Length</th><th scope=col>Petal.Width</th><th scope=col>Species</th></tr></thead>\n",
       "<tbody>\n",
       "\t<tr><td>FALSE</td><td>FALSE</td><td>FALSE</td><td>FALSE</td><td>FALSE</td></tr>\n",
       "\t<tr><td>FALSE</td><td>FALSE</td><td>FALSE</td><td>FALSE</td><td>FALSE</td></tr>\n",
       "\t<tr><td>FALSE</td><td>FALSE</td><td>FALSE</td><td>FALSE</td><td>FALSE</td></tr>\n",
       "\t<tr><td>FALSE</td><td>FALSE</td><td>FALSE</td><td>FALSE</td><td>FALSE</td></tr>\n",
       "\t<tr><td>FALSE</td><td>FALSE</td><td>FALSE</td><td>FALSE</td><td>FALSE</td></tr>\n",
       "\t<tr><td>FALSE</td><td>FALSE</td><td>FALSE</td><td>FALSE</td><td>FALSE</td></tr>\n",
       "\t<tr><td>FALSE</td><td>FALSE</td><td>FALSE</td><td>FALSE</td><td>FALSE</td></tr>\n",
       "\t<tr><td>FALSE</td><td>FALSE</td><td>FALSE</td><td>FALSE</td><td>FALSE</td></tr>\n",
       "\t<tr><td>FALSE</td><td>FALSE</td><td>FALSE</td><td>FALSE</td><td>FALSE</td></tr>\n",
       "\t<tr><td>FALSE</td><td>FALSE</td><td>FALSE</td><td>FALSE</td><td>FALSE</td></tr>\n",
       "\t<tr><td>FALSE</td><td>FALSE</td><td>FALSE</td><td>FALSE</td><td>FALSE</td></tr>\n",
       "\t<tr><td>FALSE</td><td>FALSE</td><td>FALSE</td><td>FALSE</td><td>FALSE</td></tr>\n",
       "\t<tr><td>FALSE</td><td>FALSE</td><td>FALSE</td><td>FALSE</td><td>FALSE</td></tr>\n",
       "\t<tr><td>FALSE</td><td>FALSE</td><td>FALSE</td><td>FALSE</td><td>FALSE</td></tr>\n",
       "\t<tr><td>FALSE</td><td>FALSE</td><td>FALSE</td><td>FALSE</td><td>FALSE</td></tr>\n",
       "\t<tr><td>FALSE</td><td>FALSE</td><td>FALSE</td><td>FALSE</td><td>FALSE</td></tr>\n",
       "\t<tr><td>FALSE</td><td>FALSE</td><td>FALSE</td><td>FALSE</td><td>FALSE</td></tr>\n",
       "\t<tr><td>FALSE</td><td>FALSE</td><td>FALSE</td><td>FALSE</td><td>FALSE</td></tr>\n",
       "\t<tr><td>FALSE</td><td>FALSE</td><td>FALSE</td><td>FALSE</td><td>FALSE</td></tr>\n",
       "\t<tr><td>FALSE</td><td>FALSE</td><td>FALSE</td><td>FALSE</td><td>FALSE</td></tr>\n",
       "\t<tr><td>FALSE</td><td>FALSE</td><td>FALSE</td><td>FALSE</td><td>FALSE</td></tr>\n",
       "\t<tr><td>FALSE</td><td>FALSE</td><td>FALSE</td><td>FALSE</td><td>FALSE</td></tr>\n",
       "\t<tr><td>FALSE</td><td>FALSE</td><td>FALSE</td><td>FALSE</td><td>FALSE</td></tr>\n",
       "\t<tr><td>FALSE</td><td>FALSE</td><td>FALSE</td><td>FALSE</td><td>FALSE</td></tr>\n",
       "\t<tr><td>FALSE</td><td>FALSE</td><td>FALSE</td><td>FALSE</td><td>FALSE</td></tr>\n",
       "\t<tr><td>FALSE</td><td>FALSE</td><td>FALSE</td><td>FALSE</td><td>FALSE</td></tr>\n",
       "\t<tr><td>FALSE</td><td>FALSE</td><td>FALSE</td><td>FALSE</td><td>FALSE</td></tr>\n",
       "\t<tr><td>FALSE</td><td>FALSE</td><td>FALSE</td><td>FALSE</td><td>FALSE</td></tr>\n",
       "\t<tr><td>FALSE</td><td>FALSE</td><td>FALSE</td><td>FALSE</td><td>FALSE</td></tr>\n",
       "\t<tr><td>FALSE</td><td>FALSE</td><td>FALSE</td><td>FALSE</td><td>FALSE</td></tr>\n",
       "\t<tr><td>...</td><td>...</td><td>...</td><td>...</td><td>...</td></tr>\n",
       "\t<tr><td>FALSE</td><td>FALSE</td><td>FALSE</td><td>FALSE</td><td>FALSE</td></tr>\n",
       "\t<tr><td>FALSE</td><td>FALSE</td><td>FALSE</td><td>FALSE</td><td>FALSE</td></tr>\n",
       "\t<tr><td>FALSE</td><td>FALSE</td><td>FALSE</td><td>FALSE</td><td>FALSE</td></tr>\n",
       "\t<tr><td>FALSE</td><td>FALSE</td><td>FALSE</td><td>FALSE</td><td>FALSE</td></tr>\n",
       "\t<tr><td>FALSE</td><td>FALSE</td><td>FALSE</td><td>FALSE</td><td>FALSE</td></tr>\n",
       "\t<tr><td>FALSE</td><td>FALSE</td><td>FALSE</td><td>FALSE</td><td>FALSE</td></tr>\n",
       "\t<tr><td>FALSE</td><td>FALSE</td><td>FALSE</td><td>FALSE</td><td>FALSE</td></tr>\n",
       "\t<tr><td>FALSE</td><td>FALSE</td><td>FALSE</td><td>FALSE</td><td>FALSE</td></tr>\n",
       "\t<tr><td>FALSE</td><td>FALSE</td><td>FALSE</td><td>FALSE</td><td>FALSE</td></tr>\n",
       "\t<tr><td>FALSE</td><td>FALSE</td><td>FALSE</td><td>FALSE</td><td>FALSE</td></tr>\n",
       "\t<tr><td>FALSE</td><td>FALSE</td><td>FALSE</td><td>FALSE</td><td>FALSE</td></tr>\n",
       "\t<tr><td>FALSE</td><td>FALSE</td><td>FALSE</td><td>FALSE</td><td>FALSE</td></tr>\n",
       "\t<tr><td>FALSE</td><td>FALSE</td><td>FALSE</td><td>FALSE</td><td>FALSE</td></tr>\n",
       "\t<tr><td>FALSE</td><td>FALSE</td><td>FALSE</td><td>FALSE</td><td>FALSE</td></tr>\n",
       "\t<tr><td>FALSE</td><td>FALSE</td><td>FALSE</td><td>FALSE</td><td>FALSE</td></tr>\n",
       "\t<tr><td>FALSE</td><td>FALSE</td><td>FALSE</td><td>FALSE</td><td>FALSE</td></tr>\n",
       "\t<tr><td>FALSE</td><td>FALSE</td><td>FALSE</td><td>FALSE</td><td>FALSE</td></tr>\n",
       "\t<tr><td>FALSE</td><td>FALSE</td><td>FALSE</td><td>FALSE</td><td>FALSE</td></tr>\n",
       "\t<tr><td>FALSE</td><td>FALSE</td><td>FALSE</td><td>FALSE</td><td>FALSE</td></tr>\n",
       "\t<tr><td>FALSE</td><td>FALSE</td><td>FALSE</td><td>FALSE</td><td>FALSE</td></tr>\n",
       "\t<tr><td>FALSE</td><td>FALSE</td><td>FALSE</td><td>FALSE</td><td>FALSE</td></tr>\n",
       "\t<tr><td>FALSE</td><td>FALSE</td><td>FALSE</td><td>FALSE</td><td>FALSE</td></tr>\n",
       "\t<tr><td>FALSE</td><td>FALSE</td><td>FALSE</td><td>FALSE</td><td>FALSE</td></tr>\n",
       "\t<tr><td>FALSE</td><td>FALSE</td><td>FALSE</td><td>FALSE</td><td>FALSE</td></tr>\n",
       "\t<tr><td>FALSE</td><td>FALSE</td><td>FALSE</td><td>FALSE</td><td>FALSE</td></tr>\n",
       "\t<tr><td>FALSE</td><td>FALSE</td><td>FALSE</td><td>FALSE</td><td>FALSE</td></tr>\n",
       "\t<tr><td>FALSE</td><td>FALSE</td><td>FALSE</td><td>FALSE</td><td>FALSE</td></tr>\n",
       "\t<tr><td>FALSE</td><td>FALSE</td><td>FALSE</td><td>FALSE</td><td>FALSE</td></tr>\n",
       "\t<tr><td>FALSE</td><td>FALSE</td><td>FALSE</td><td>FALSE</td><td>FALSE</td></tr>\n",
       "\t<tr><td>FALSE</td><td>FALSE</td><td>FALSE</td><td>FALSE</td><td>FALSE</td></tr>\n",
       "</tbody>\n",
       "</table>\n"
      ],
      "text/latex": [
       "\\begin{tabular}{lllll}\n",
       " Sepal.Length & Sepal.Width & Petal.Length & Petal.Width & Species\\\\\n",
       "\\hline\n",
       "\t FALSE & FALSE & FALSE & FALSE & FALSE\\\\\n",
       "\t FALSE & FALSE & FALSE & FALSE & FALSE\\\\\n",
       "\t FALSE & FALSE & FALSE & FALSE & FALSE\\\\\n",
       "\t FALSE & FALSE & FALSE & FALSE & FALSE\\\\\n",
       "\t FALSE & FALSE & FALSE & FALSE & FALSE\\\\\n",
       "\t FALSE & FALSE & FALSE & FALSE & FALSE\\\\\n",
       "\t FALSE & FALSE & FALSE & FALSE & FALSE\\\\\n",
       "\t FALSE & FALSE & FALSE & FALSE & FALSE\\\\\n",
       "\t FALSE & FALSE & FALSE & FALSE & FALSE\\\\\n",
       "\t FALSE & FALSE & FALSE & FALSE & FALSE\\\\\n",
       "\t FALSE & FALSE & FALSE & FALSE & FALSE\\\\\n",
       "\t FALSE & FALSE & FALSE & FALSE & FALSE\\\\\n",
       "\t FALSE & FALSE & FALSE & FALSE & FALSE\\\\\n",
       "\t FALSE & FALSE & FALSE & FALSE & FALSE\\\\\n",
       "\t FALSE & FALSE & FALSE & FALSE & FALSE\\\\\n",
       "\t FALSE & FALSE & FALSE & FALSE & FALSE\\\\\n",
       "\t FALSE & FALSE & FALSE & FALSE & FALSE\\\\\n",
       "\t FALSE & FALSE & FALSE & FALSE & FALSE\\\\\n",
       "\t FALSE & FALSE & FALSE & FALSE & FALSE\\\\\n",
       "\t FALSE & FALSE & FALSE & FALSE & FALSE\\\\\n",
       "\t FALSE & FALSE & FALSE & FALSE & FALSE\\\\\n",
       "\t FALSE & FALSE & FALSE & FALSE & FALSE\\\\\n",
       "\t FALSE & FALSE & FALSE & FALSE & FALSE\\\\\n",
       "\t FALSE & FALSE & FALSE & FALSE & FALSE\\\\\n",
       "\t FALSE & FALSE & FALSE & FALSE & FALSE\\\\\n",
       "\t FALSE & FALSE & FALSE & FALSE & FALSE\\\\\n",
       "\t FALSE & FALSE & FALSE & FALSE & FALSE\\\\\n",
       "\t FALSE & FALSE & FALSE & FALSE & FALSE\\\\\n",
       "\t FALSE & FALSE & FALSE & FALSE & FALSE\\\\\n",
       "\t FALSE & FALSE & FALSE & FALSE & FALSE\\\\\n",
       "\t ... & ... & ... & ... & ...\\\\\n",
       "\t FALSE & FALSE & FALSE & FALSE & FALSE\\\\\n",
       "\t FALSE & FALSE & FALSE & FALSE & FALSE\\\\\n",
       "\t FALSE & FALSE & FALSE & FALSE & FALSE\\\\\n",
       "\t FALSE & FALSE & FALSE & FALSE & FALSE\\\\\n",
       "\t FALSE & FALSE & FALSE & FALSE & FALSE\\\\\n",
       "\t FALSE & FALSE & FALSE & FALSE & FALSE\\\\\n",
       "\t FALSE & FALSE & FALSE & FALSE & FALSE\\\\\n",
       "\t FALSE & FALSE & FALSE & FALSE & FALSE\\\\\n",
       "\t FALSE & FALSE & FALSE & FALSE & FALSE\\\\\n",
       "\t FALSE & FALSE & FALSE & FALSE & FALSE\\\\\n",
       "\t FALSE & FALSE & FALSE & FALSE & FALSE\\\\\n",
       "\t FALSE & FALSE & FALSE & FALSE & FALSE\\\\\n",
       "\t FALSE & FALSE & FALSE & FALSE & FALSE\\\\\n",
       "\t FALSE & FALSE & FALSE & FALSE & FALSE\\\\\n",
       "\t FALSE & FALSE & FALSE & FALSE & FALSE\\\\\n",
       "\t FALSE & FALSE & FALSE & FALSE & FALSE\\\\\n",
       "\t FALSE & FALSE & FALSE & FALSE & FALSE\\\\\n",
       "\t FALSE & FALSE & FALSE & FALSE & FALSE\\\\\n",
       "\t FALSE & FALSE & FALSE & FALSE & FALSE\\\\\n",
       "\t FALSE & FALSE & FALSE & FALSE & FALSE\\\\\n",
       "\t FALSE & FALSE & FALSE & FALSE & FALSE\\\\\n",
       "\t FALSE & FALSE & FALSE & FALSE & FALSE\\\\\n",
       "\t FALSE & FALSE & FALSE & FALSE & FALSE\\\\\n",
       "\t FALSE & FALSE & FALSE & FALSE & FALSE\\\\\n",
       "\t FALSE & FALSE & FALSE & FALSE & FALSE\\\\\n",
       "\t FALSE & FALSE & FALSE & FALSE & FALSE\\\\\n",
       "\t FALSE & FALSE & FALSE & FALSE & FALSE\\\\\n",
       "\t FALSE & FALSE & FALSE & FALSE & FALSE\\\\\n",
       "\t FALSE & FALSE & FALSE & FALSE & FALSE\\\\\n",
       "\t FALSE & FALSE & FALSE & FALSE & FALSE\\\\\n",
       "\\end{tabular}\n"
      ],
      "text/markdown": [
       "\n",
       "| Sepal.Length | Sepal.Width | Petal.Length | Petal.Width | Species |\n",
       "|---|---|---|---|---|\n",
       "| FALSE | FALSE | FALSE | FALSE | FALSE |\n",
       "| FALSE | FALSE | FALSE | FALSE | FALSE |\n",
       "| FALSE | FALSE | FALSE | FALSE | FALSE |\n",
       "| FALSE | FALSE | FALSE | FALSE | FALSE |\n",
       "| FALSE | FALSE | FALSE | FALSE | FALSE |\n",
       "| FALSE | FALSE | FALSE | FALSE | FALSE |\n",
       "| FALSE | FALSE | FALSE | FALSE | FALSE |\n",
       "| FALSE | FALSE | FALSE | FALSE | FALSE |\n",
       "| FALSE | FALSE | FALSE | FALSE | FALSE |\n",
       "| FALSE | FALSE | FALSE | FALSE | FALSE |\n",
       "| FALSE | FALSE | FALSE | FALSE | FALSE |\n",
       "| FALSE | FALSE | FALSE | FALSE | FALSE |\n",
       "| FALSE | FALSE | FALSE | FALSE | FALSE |\n",
       "| FALSE | FALSE | FALSE | FALSE | FALSE |\n",
       "| FALSE | FALSE | FALSE | FALSE | FALSE |\n",
       "| FALSE | FALSE | FALSE | FALSE | FALSE |\n",
       "| FALSE | FALSE | FALSE | FALSE | FALSE |\n",
       "| FALSE | FALSE | FALSE | FALSE | FALSE |\n",
       "| FALSE | FALSE | FALSE | FALSE | FALSE |\n",
       "| FALSE | FALSE | FALSE | FALSE | FALSE |\n",
       "| FALSE | FALSE | FALSE | FALSE | FALSE |\n",
       "| FALSE | FALSE | FALSE | FALSE | FALSE |\n",
       "| FALSE | FALSE | FALSE | FALSE | FALSE |\n",
       "| FALSE | FALSE | FALSE | FALSE | FALSE |\n",
       "| FALSE | FALSE | FALSE | FALSE | FALSE |\n",
       "| FALSE | FALSE | FALSE | FALSE | FALSE |\n",
       "| FALSE | FALSE | FALSE | FALSE | FALSE |\n",
       "| FALSE | FALSE | FALSE | FALSE | FALSE |\n",
       "| FALSE | FALSE | FALSE | FALSE | FALSE |\n",
       "| FALSE | FALSE | FALSE | FALSE | FALSE |\n",
       "| ... | ... | ... | ... | ... |\n",
       "| FALSE | FALSE | FALSE | FALSE | FALSE |\n",
       "| FALSE | FALSE | FALSE | FALSE | FALSE |\n",
       "| FALSE | FALSE | FALSE | FALSE | FALSE |\n",
       "| FALSE | FALSE | FALSE | FALSE | FALSE |\n",
       "| FALSE | FALSE | FALSE | FALSE | FALSE |\n",
       "| FALSE | FALSE | FALSE | FALSE | FALSE |\n",
       "| FALSE | FALSE | FALSE | FALSE | FALSE |\n",
       "| FALSE | FALSE | FALSE | FALSE | FALSE |\n",
       "| FALSE | FALSE | FALSE | FALSE | FALSE |\n",
       "| FALSE | FALSE | FALSE | FALSE | FALSE |\n",
       "| FALSE | FALSE | FALSE | FALSE | FALSE |\n",
       "| FALSE | FALSE | FALSE | FALSE | FALSE |\n",
       "| FALSE | FALSE | FALSE | FALSE | FALSE |\n",
       "| FALSE | FALSE | FALSE | FALSE | FALSE |\n",
       "| FALSE | FALSE | FALSE | FALSE | FALSE |\n",
       "| FALSE | FALSE | FALSE | FALSE | FALSE |\n",
       "| FALSE | FALSE | FALSE | FALSE | FALSE |\n",
       "| FALSE | FALSE | FALSE | FALSE | FALSE |\n",
       "| FALSE | FALSE | FALSE | FALSE | FALSE |\n",
       "| FALSE | FALSE | FALSE | FALSE | FALSE |\n",
       "| FALSE | FALSE | FALSE | FALSE | FALSE |\n",
       "| FALSE | FALSE | FALSE | FALSE | FALSE |\n",
       "| FALSE | FALSE | FALSE | FALSE | FALSE |\n",
       "| FALSE | FALSE | FALSE | FALSE | FALSE |\n",
       "| FALSE | FALSE | FALSE | FALSE | FALSE |\n",
       "| FALSE | FALSE | FALSE | FALSE | FALSE |\n",
       "| FALSE | FALSE | FALSE | FALSE | FALSE |\n",
       "| FALSE | FALSE | FALSE | FALSE | FALSE |\n",
       "| FALSE | FALSE | FALSE | FALSE | FALSE |\n",
       "| FALSE | FALSE | FALSE | FALSE | FALSE |\n",
       "\n"
      ],
      "text/plain": [
       "      Sepal.Length Sepal.Width Petal.Length Petal.Width Species\n",
       " [1,] FALSE        FALSE       FALSE        FALSE       FALSE  \n",
       " [2,] FALSE        FALSE       FALSE        FALSE       FALSE  \n",
       " [3,] FALSE        FALSE       FALSE        FALSE       FALSE  \n",
       " [4,] FALSE        FALSE       FALSE        FALSE       FALSE  \n",
       " [5,] FALSE        FALSE       FALSE        FALSE       FALSE  \n",
       " [6,] FALSE        FALSE       FALSE        FALSE       FALSE  \n",
       " [7,] FALSE        FALSE       FALSE        FALSE       FALSE  \n",
       " [8,] FALSE        FALSE       FALSE        FALSE       FALSE  \n",
       " [9,] FALSE        FALSE       FALSE        FALSE       FALSE  \n",
       "[10,] FALSE        FALSE       FALSE        FALSE       FALSE  \n",
       "[11,] FALSE        FALSE       FALSE        FALSE       FALSE  \n",
       "[12,] FALSE        FALSE       FALSE        FALSE       FALSE  \n",
       "[13,] FALSE        FALSE       FALSE        FALSE       FALSE  \n",
       "[14,] FALSE        FALSE       FALSE        FALSE       FALSE  \n",
       "[15,] FALSE        FALSE       FALSE        FALSE       FALSE  \n",
       "[16,] FALSE        FALSE       FALSE        FALSE       FALSE  \n",
       "[17,] FALSE        FALSE       FALSE        FALSE       FALSE  \n",
       "[18,] FALSE        FALSE       FALSE        FALSE       FALSE  \n",
       "[19,] FALSE        FALSE       FALSE        FALSE       FALSE  \n",
       "[20,] FALSE        FALSE       FALSE        FALSE       FALSE  \n",
       "[21,] FALSE        FALSE       FALSE        FALSE       FALSE  \n",
       "[22,] FALSE        FALSE       FALSE        FALSE       FALSE  \n",
       "[23,] FALSE        FALSE       FALSE        FALSE       FALSE  \n",
       "[24,] FALSE        FALSE       FALSE        FALSE       FALSE  \n",
       "[25,] FALSE        FALSE       FALSE        FALSE       FALSE  \n",
       "[26,] FALSE        FALSE       FALSE        FALSE       FALSE  \n",
       "[27,] FALSE        FALSE       FALSE        FALSE       FALSE  \n",
       "[28,] FALSE        FALSE       FALSE        FALSE       FALSE  \n",
       "[29,] FALSE        FALSE       FALSE        FALSE       FALSE  \n",
       "[30,] FALSE        FALSE       FALSE        FALSE       FALSE  \n",
       "[31,] ...          ...         ...          ...         ...    \n",
       "[32,] FALSE        FALSE       FALSE        FALSE       FALSE  \n",
       "[33,] FALSE        FALSE       FALSE        FALSE       FALSE  \n",
       "[34,] FALSE        FALSE       FALSE        FALSE       FALSE  \n",
       "[35,] FALSE        FALSE       FALSE        FALSE       FALSE  \n",
       "[36,] FALSE        FALSE       FALSE        FALSE       FALSE  \n",
       "[37,] FALSE        FALSE       FALSE        FALSE       FALSE  \n",
       "[38,] FALSE        FALSE       FALSE        FALSE       FALSE  \n",
       "[39,] FALSE        FALSE       FALSE        FALSE       FALSE  \n",
       "[40,] FALSE        FALSE       FALSE        FALSE       FALSE  \n",
       "[41,] FALSE        FALSE       FALSE        FALSE       FALSE  \n",
       "[42,] FALSE        FALSE       FALSE        FALSE       FALSE  \n",
       "[43,] FALSE        FALSE       FALSE        FALSE       FALSE  \n",
       "[44,] FALSE        FALSE       FALSE        FALSE       FALSE  \n",
       "[45,] FALSE        FALSE       FALSE        FALSE       FALSE  \n",
       "[46,] FALSE        FALSE       FALSE        FALSE       FALSE  \n",
       "[47,] FALSE        FALSE       FALSE        FALSE       FALSE  \n",
       "[48,] FALSE        FALSE       FALSE        FALSE       FALSE  \n",
       "[49,] FALSE        FALSE       FALSE        FALSE       FALSE  \n",
       "[50,] FALSE        FALSE       FALSE        FALSE       FALSE  \n",
       "[51,] FALSE        FALSE       FALSE        FALSE       FALSE  \n",
       "[52,] FALSE        FALSE       FALSE        FALSE       FALSE  \n",
       "[53,] FALSE        FALSE       FALSE        FALSE       FALSE  \n",
       "[54,] FALSE        FALSE       FALSE        FALSE       FALSE  \n",
       "[55,] FALSE        FALSE       FALSE        FALSE       FALSE  \n",
       "[56,] FALSE        FALSE       FALSE        FALSE       FALSE  \n",
       "[57,] FALSE        FALSE       FALSE        FALSE       FALSE  \n",
       "[58,] FALSE        FALSE       FALSE        FALSE       FALSE  \n",
       "[59,] FALSE        FALSE       FALSE        FALSE       FALSE  \n",
       "[60,] FALSE        FALSE       FALSE        FALSE       FALSE  \n",
       "[61,] FALSE        FALSE       FALSE        FALSE       FALSE  "
      ]
     },
     "metadata": {},
     "output_type": "display_data"
    }
   ],
   "source": [
    "is.na(iris)"
   ]
  },
  {
   "cell_type": "raw",
   "id": "changing-robin",
   "metadata": {},
   "source": [
    "## is.***  물어본다"
   ]
  },
  {
   "cell_type": "code",
   "execution_count": 32,
   "id": "digital-federation",
   "metadata": {},
   "outputs": [
    {
     "data": {
      "text/html": [
       "FALSE"
      ],
      "text/latex": [
       "FALSE"
      ],
      "text/markdown": [
       "FALSE"
      ],
      "text/plain": [
       "[1] FALSE"
      ]
     },
     "metadata": {},
     "output_type": "display_data"
    }
   ],
   "source": [
    "is.factor(iris)"
   ]
  },
  {
   "cell_type": "code",
   "execution_count": 33,
   "id": "innocent-division",
   "metadata": {},
   "outputs": [
    {
     "data": {
      "text/html": [
       "TRUE"
      ],
      "text/latex": [
       "TRUE"
      ],
      "text/markdown": [
       "TRUE"
      ],
      "text/plain": [
       "[1] TRUE"
      ]
     },
     "metadata": {},
     "output_type": "display_data"
    }
   ],
   "source": [
    "is.data.frame(iris)"
   ]
  },
  {
   "cell_type": "code",
   "execution_count": 34,
   "id": "material-holiday",
   "metadata": {},
   "outputs": [
    {
     "data": {
      "text/html": [
       "<table>\n",
       "<thead><tr><th scope=col>Tree</th><th scope=col>age</th><th scope=col>circumference</th></tr></thead>\n",
       "<tbody>\n",
       "\t<tr><td>1   </td><td> 118</td><td> 30 </td></tr>\n",
       "\t<tr><td>1   </td><td> 484</td><td> 58 </td></tr>\n",
       "\t<tr><td>1   </td><td> 664</td><td> 87 </td></tr>\n",
       "\t<tr><td>1   </td><td>1004</td><td>115 </td></tr>\n",
       "\t<tr><td>1   </td><td>1231</td><td>120 </td></tr>\n",
       "\t<tr><td>1   </td><td>1372</td><td>142 </td></tr>\n",
       "</tbody>\n",
       "</table>\n"
      ],
      "text/latex": [
       "\\begin{tabular}{r|lll}\n",
       " Tree & age & circumference\\\\\n",
       "\\hline\n",
       "\t 1    &  118 &  30 \\\\\n",
       "\t 1    &  484 &  58 \\\\\n",
       "\t 1    &  664 &  87 \\\\\n",
       "\t 1    & 1004 & 115 \\\\\n",
       "\t 1    & 1231 & 120 \\\\\n",
       "\t 1    & 1372 & 142 \\\\\n",
       "\\end{tabular}\n"
      ],
      "text/markdown": [
       "\n",
       "| Tree | age | circumference |\n",
       "|---|---|---|\n",
       "| 1    |  118 |  30  |\n",
       "| 1    |  484 |  58  |\n",
       "| 1    |  664 |  87  |\n",
       "| 1    | 1004 | 115  |\n",
       "| 1    | 1231 | 120  |\n",
       "| 1    | 1372 | 142  |\n",
       "\n"
      ],
      "text/plain": [
       "  Tree age  circumference\n",
       "1 1     118  30          \n",
       "2 1     484  58          \n",
       "3 1     664  87          \n",
       "4 1    1004 115          \n",
       "5 1    1231 120          \n",
       "6 1    1372 142          "
      ]
     },
     "metadata": {},
     "output_type": "display_data"
    }
   ],
   "source": [
    "head(Orange)"
   ]
  },
  {
   "cell_type": "code",
   "execution_count": 35,
   "id": "bigger-breakfast",
   "metadata": {},
   "outputs": [
    {
     "data": {
      "text/html": [
       "<table>\n",
       "<thead><tr><th scope=col>Tree</th><th scope=col>age</th><th scope=col>circumference</th></tr></thead>\n",
       "<tbody>\n",
       "\t<tr><td>1   </td><td> 118</td><td> 30 </td></tr>\n",
       "\t<tr><td>1   </td><td> 484</td><td> 58 </td></tr>\n",
       "\t<tr><td>1   </td><td> 664</td><td> 87 </td></tr>\n",
       "\t<tr><td>1   </td><td>1004</td><td>115 </td></tr>\n",
       "\t<tr><td>1   </td><td>1231</td><td>120 </td></tr>\n",
       "\t<tr><td>1   </td><td>1372</td><td>142 </td></tr>\n",
       "\t<tr><td>1   </td><td>1582</td><td>145 </td></tr>\n",
       "\t<tr><td>2   </td><td> 118</td><td> 33 </td></tr>\n",
       "\t<tr><td>2   </td><td> 484</td><td> 69 </td></tr>\n",
       "\t<tr><td>2   </td><td> 664</td><td>111 </td></tr>\n",
       "\t<tr><td>2   </td><td>1004</td><td>156 </td></tr>\n",
       "\t<tr><td>2   </td><td>1231</td><td>172 </td></tr>\n",
       "\t<tr><td>2   </td><td>1372</td><td>203 </td></tr>\n",
       "\t<tr><td>2   </td><td>1582</td><td>203 </td></tr>\n",
       "\t<tr><td>3   </td><td> 118</td><td> 30 </td></tr>\n",
       "\t<tr><td>3   </td><td> 484</td><td> 51 </td></tr>\n",
       "\t<tr><td>3   </td><td> 664</td><td> 75 </td></tr>\n",
       "\t<tr><td>3   </td><td>1004</td><td>108 </td></tr>\n",
       "\t<tr><td>3   </td><td>1231</td><td>115 </td></tr>\n",
       "\t<tr><td>3   </td><td>1372</td><td>139 </td></tr>\n",
       "\t<tr><td>3   </td><td>1582</td><td>140 </td></tr>\n",
       "\t<tr><td>4   </td><td> 118</td><td> 32 </td></tr>\n",
       "\t<tr><td>4   </td><td> 484</td><td> 62 </td></tr>\n",
       "\t<tr><td>4   </td><td> 664</td><td>112 </td></tr>\n",
       "\t<tr><td>4   </td><td>1004</td><td>167 </td></tr>\n",
       "</tbody>\n",
       "</table>\n"
      ],
      "text/latex": [
       "\\begin{tabular}{r|lll}\n",
       " Tree & age & circumference\\\\\n",
       "\\hline\n",
       "\t 1    &  118 &  30 \\\\\n",
       "\t 1    &  484 &  58 \\\\\n",
       "\t 1    &  664 &  87 \\\\\n",
       "\t 1    & 1004 & 115 \\\\\n",
       "\t 1    & 1231 & 120 \\\\\n",
       "\t 1    & 1372 & 142 \\\\\n",
       "\t 1    & 1582 & 145 \\\\\n",
       "\t 2    &  118 &  33 \\\\\n",
       "\t 2    &  484 &  69 \\\\\n",
       "\t 2    &  664 & 111 \\\\\n",
       "\t 2    & 1004 & 156 \\\\\n",
       "\t 2    & 1231 & 172 \\\\\n",
       "\t 2    & 1372 & 203 \\\\\n",
       "\t 2    & 1582 & 203 \\\\\n",
       "\t 3    &  118 &  30 \\\\\n",
       "\t 3    &  484 &  51 \\\\\n",
       "\t 3    &  664 &  75 \\\\\n",
       "\t 3    & 1004 & 108 \\\\\n",
       "\t 3    & 1231 & 115 \\\\\n",
       "\t 3    & 1372 & 139 \\\\\n",
       "\t 3    & 1582 & 140 \\\\\n",
       "\t 4    &  118 &  32 \\\\\n",
       "\t 4    &  484 &  62 \\\\\n",
       "\t 4    &  664 & 112 \\\\\n",
       "\t 4    & 1004 & 167 \\\\\n",
       "\\end{tabular}\n"
      ],
      "text/markdown": [
       "\n",
       "| Tree | age | circumference |\n",
       "|---|---|---|\n",
       "| 1    |  118 |  30  |\n",
       "| 1    |  484 |  58  |\n",
       "| 1    |  664 |  87  |\n",
       "| 1    | 1004 | 115  |\n",
       "| 1    | 1231 | 120  |\n",
       "| 1    | 1372 | 142  |\n",
       "| 1    | 1582 | 145  |\n",
       "| 2    |  118 |  33  |\n",
       "| 2    |  484 |  69  |\n",
       "| 2    |  664 | 111  |\n",
       "| 2    | 1004 | 156  |\n",
       "| 2    | 1231 | 172  |\n",
       "| 2    | 1372 | 203  |\n",
       "| 2    | 1582 | 203  |\n",
       "| 3    |  118 |  30  |\n",
       "| 3    |  484 |  51  |\n",
       "| 3    |  664 |  75  |\n",
       "| 3    | 1004 | 108  |\n",
       "| 3    | 1231 | 115  |\n",
       "| 3    | 1372 | 139  |\n",
       "| 3    | 1582 | 140  |\n",
       "| 4    |  118 |  32  |\n",
       "| 4    |  484 |  62  |\n",
       "| 4    |  664 | 112  |\n",
       "| 4    | 1004 | 167  |\n",
       "\n"
      ],
      "text/plain": [
       "   Tree age  circumference\n",
       "1  1     118  30          \n",
       "2  1     484  58          \n",
       "3  1     664  87          \n",
       "4  1    1004 115          \n",
       "5  1    1231 120          \n",
       "6  1    1372 142          \n",
       "7  1    1582 145          \n",
       "8  2     118  33          \n",
       "9  2     484  69          \n",
       "10 2     664 111          \n",
       "11 2    1004 156          \n",
       "12 2    1231 172          \n",
       "13 2    1372 203          \n",
       "14 2    1582 203          \n",
       "15 3     118  30          \n",
       "16 3     484  51          \n",
       "17 3     664  75          \n",
       "18 3    1004 108          \n",
       "19 3    1231 115          \n",
       "20 3    1372 139          \n",
       "21 3    1582 140          \n",
       "22 4     118  32          \n",
       "23 4     484  62          \n",
       "24 4     664 112          \n",
       "25 4    1004 167          "
      ]
     },
     "metadata": {},
     "output_type": "display_data"
    }
   ],
   "source": [
    "head(Orange,25)"
   ]
  },
  {
   "cell_type": "code",
   "execution_count": 36,
   "id": "general-miami",
   "metadata": {},
   "outputs": [
    {
     "data": {
      "text/html": [
       "<table>\n",
       "<thead><tr><th></th><th scope=col>Tree</th><th scope=col>age</th><th scope=col>circumference</th></tr></thead>\n",
       "<tbody>\n",
       "\t<tr><th scope=row>30</th><td>5   </td><td> 484</td><td> 49 </td></tr>\n",
       "\t<tr><th scope=row>31</th><td>5   </td><td> 664</td><td> 81 </td></tr>\n",
       "\t<tr><th scope=row>32</th><td>5   </td><td>1004</td><td>125 </td></tr>\n",
       "\t<tr><th scope=row>33</th><td>5   </td><td>1231</td><td>142 </td></tr>\n",
       "\t<tr><th scope=row>34</th><td>5   </td><td>1372</td><td>174 </td></tr>\n",
       "\t<tr><th scope=row>35</th><td>5   </td><td>1582</td><td>177 </td></tr>\n",
       "</tbody>\n",
       "</table>\n"
      ],
      "text/latex": [
       "\\begin{tabular}{r|lll}\n",
       "  & Tree & age & circumference\\\\\n",
       "\\hline\n",
       "\t30 & 5    &  484 &  49 \\\\\n",
       "\t31 & 5    &  664 &  81 \\\\\n",
       "\t32 & 5    & 1004 & 125 \\\\\n",
       "\t33 & 5    & 1231 & 142 \\\\\n",
       "\t34 & 5    & 1372 & 174 \\\\\n",
       "\t35 & 5    & 1582 & 177 \\\\\n",
       "\\end{tabular}\n"
      ],
      "text/markdown": [
       "\n",
       "| <!--/--> | Tree | age | circumference |\n",
       "|---|---|---|---|\n",
       "| 30 | 5    |  484 |  49  |\n",
       "| 31 | 5    |  664 |  81  |\n",
       "| 32 | 5    | 1004 | 125  |\n",
       "| 33 | 5    | 1231 | 142  |\n",
       "| 34 | 5    | 1372 | 174  |\n",
       "| 35 | 5    | 1582 | 177  |\n",
       "\n"
      ],
      "text/plain": [
       "   Tree age  circumference\n",
       "30 5     484  49          \n",
       "31 5     664  81          \n",
       "32 5    1004 125          \n",
       "33 5    1231 142          \n",
       "34 5    1372 174          \n",
       "35 5    1582 177          "
      ]
     },
     "metadata": {},
     "output_type": "display_data"
    }
   ],
   "source": [
    "tail(Orange)"
   ]
  },
  {
   "cell_type": "code",
   "execution_count": 38,
   "id": "hazardous-christmas",
   "metadata": {},
   "outputs": [
    {
     "data": {
      "text/plain": [
       " Tree       age         circumference  \n",
       " 3:7   Min.   : 118.0   Min.   : 30.0  \n",
       " 1:7   1st Qu.: 484.0   1st Qu.: 65.5  \n",
       " 5:7   Median :1004.0   Median :115.0  \n",
       " 2:7   Mean   : 922.1   Mean   :115.9  \n",
       " 4:7   3rd Qu.:1372.0   3rd Qu.:161.5  \n",
       "       Max.   :1582.0   Max.   :214.0  "
      ]
     },
     "metadata": {},
     "output_type": "display_data"
    }
   ],
   "source": [
    "summary(Orange)"
   ]
  },
  {
   "cell_type": "code",
   "execution_count": 39,
   "id": "angry-composite",
   "metadata": {},
   "outputs": [
    {
     "data": {
      "text/plain": [
       "Length  Class   Mode \n",
       "     0   NULL   NULL "
      ]
     },
     "metadata": {},
     "output_type": "display_data"
    }
   ],
   "source": [
    "summary(Orange$Sepal.Length)"
   ]
  },
  {
   "cell_type": "code",
   "execution_count": 40,
   "id": "modified-chess",
   "metadata": {},
   "outputs": [
    {
     "name": "stdout",
     "output_type": "stream",
     "text": [
      "Classes 'nfnGroupedData', 'nfGroupedData', 'groupedData' and 'data.frame':\t35 obs. of  3 variables:\n",
      " $ Tree         : Ord.factor w/ 5 levels \"3\"<\"1\"<\"5\"<\"2\"<..: 2 2 2 2 2 2 2 4 4 4 ...\n",
      " $ age          : num  118 484 664 1004 1231 ...\n",
      " $ circumference: num  30 58 87 115 120 142 145 33 69 111 ...\n",
      " - attr(*, \"formula\")=Class 'formula'  language circumference ~ age | Tree\n",
      "  .. ..- attr(*, \".Environment\")=<environment: R_EmptyEnv> \n",
      " - attr(*, \"labels\")=List of 2\n",
      "  ..$ x: chr \"Time since December 31, 1968\"\n",
      "  ..$ y: chr \"Trunk circumference\"\n",
      " - attr(*, \"units\")=List of 2\n",
      "  ..$ x: chr \"(days)\"\n",
      "  ..$ y: chr \"(mm)\"\n"
     ]
    }
   ],
   "source": [
    "str(Orange)"
   ]
  },
  {
   "cell_type": "code",
   "execution_count": 42,
   "id": "partial-absence",
   "metadata": {},
   "outputs": [
    {
     "data": {
      "text/html": [
       "<ol class=list-inline>\n",
       "\t<li>35</li>\n",
       "\t<li>3</li>\n",
       "</ol>\n"
      ],
      "text/latex": [
       "\\begin{enumerate*}\n",
       "\\item 35\n",
       "\\item 3\n",
       "\\end{enumerate*}\n"
      ],
      "text/markdown": [
       "1. 35\n",
       "2. 3\n",
       "\n",
       "\n"
      ],
      "text/plain": [
       "[1] 35  3"
      ]
     },
     "metadata": {},
     "output_type": "display_data"
    }
   ],
   "source": [
    "dim(Orange)"
   ]
  },
  {
   "cell_type": "code",
   "execution_count": 43,
   "id": "pretty-guard",
   "metadata": {},
   "outputs": [
    {
     "data": {
      "text/plain": [
       "5232 bytes"
      ]
     },
     "metadata": {},
     "output_type": "display_data"
    }
   ],
   "source": [
    "object.size(Orange)"
   ]
  },
  {
   "cell_type": "code",
   "execution_count": 44,
   "id": "advance-radar",
   "metadata": {},
   "outputs": [
    {
     "data": {
      "text/html": [
       "<table>\n",
       "<thead><tr><th scope=col>Tree</th><th scope=col>age</th><th scope=col>circumference</th></tr></thead>\n",
       "<tbody>\n",
       "\t<tr><td>FALSE</td><td>FALSE</td><td>FALSE</td></tr>\n",
       "\t<tr><td>FALSE</td><td>FALSE</td><td>FALSE</td></tr>\n",
       "\t<tr><td>FALSE</td><td>FALSE</td><td>FALSE</td></tr>\n",
       "\t<tr><td>FALSE</td><td>FALSE</td><td>FALSE</td></tr>\n",
       "\t<tr><td>FALSE</td><td>FALSE</td><td>FALSE</td></tr>\n",
       "\t<tr><td>FALSE</td><td>FALSE</td><td>FALSE</td></tr>\n",
       "\t<tr><td>FALSE</td><td>FALSE</td><td>FALSE</td></tr>\n",
       "\t<tr><td>FALSE</td><td>FALSE</td><td>FALSE</td></tr>\n",
       "\t<tr><td>FALSE</td><td>FALSE</td><td>FALSE</td></tr>\n",
       "\t<tr><td>FALSE</td><td>FALSE</td><td>FALSE</td></tr>\n",
       "\t<tr><td>FALSE</td><td>FALSE</td><td>FALSE</td></tr>\n",
       "\t<tr><td>FALSE</td><td>FALSE</td><td>FALSE</td></tr>\n",
       "\t<tr><td>FALSE</td><td>FALSE</td><td>FALSE</td></tr>\n",
       "\t<tr><td>FALSE</td><td>FALSE</td><td>FALSE</td></tr>\n",
       "\t<tr><td>FALSE</td><td>FALSE</td><td>FALSE</td></tr>\n",
       "\t<tr><td>FALSE</td><td>FALSE</td><td>FALSE</td></tr>\n",
       "\t<tr><td>FALSE</td><td>FALSE</td><td>FALSE</td></tr>\n",
       "\t<tr><td>FALSE</td><td>FALSE</td><td>FALSE</td></tr>\n",
       "\t<tr><td>FALSE</td><td>FALSE</td><td>FALSE</td></tr>\n",
       "\t<tr><td>FALSE</td><td>FALSE</td><td>FALSE</td></tr>\n",
       "\t<tr><td>FALSE</td><td>FALSE</td><td>FALSE</td></tr>\n",
       "\t<tr><td>FALSE</td><td>FALSE</td><td>FALSE</td></tr>\n",
       "\t<tr><td>FALSE</td><td>FALSE</td><td>FALSE</td></tr>\n",
       "\t<tr><td>FALSE</td><td>FALSE</td><td>FALSE</td></tr>\n",
       "\t<tr><td>FALSE</td><td>FALSE</td><td>FALSE</td></tr>\n",
       "\t<tr><td>FALSE</td><td>FALSE</td><td>FALSE</td></tr>\n",
       "\t<tr><td>FALSE</td><td>FALSE</td><td>FALSE</td></tr>\n",
       "\t<tr><td>FALSE</td><td>FALSE</td><td>FALSE</td></tr>\n",
       "\t<tr><td>FALSE</td><td>FALSE</td><td>FALSE</td></tr>\n",
       "\t<tr><td>FALSE</td><td>FALSE</td><td>FALSE</td></tr>\n",
       "\t<tr><td>FALSE</td><td>FALSE</td><td>FALSE</td></tr>\n",
       "\t<tr><td>FALSE</td><td>FALSE</td><td>FALSE</td></tr>\n",
       "\t<tr><td>FALSE</td><td>FALSE</td><td>FALSE</td></tr>\n",
       "\t<tr><td>FALSE</td><td>FALSE</td><td>FALSE</td></tr>\n",
       "\t<tr><td>FALSE</td><td>FALSE</td><td>FALSE</td></tr>\n",
       "</tbody>\n",
       "</table>\n"
      ],
      "text/latex": [
       "\\begin{tabular}{r|lll}\n",
       " Tree & age & circumference\\\\\n",
       "\\hline\n",
       "\t FALSE & FALSE & FALSE\\\\\n",
       "\t FALSE & FALSE & FALSE\\\\\n",
       "\t FALSE & FALSE & FALSE\\\\\n",
       "\t FALSE & FALSE & FALSE\\\\\n",
       "\t FALSE & FALSE & FALSE\\\\\n",
       "\t FALSE & FALSE & FALSE\\\\\n",
       "\t FALSE & FALSE & FALSE\\\\\n",
       "\t FALSE & FALSE & FALSE\\\\\n",
       "\t FALSE & FALSE & FALSE\\\\\n",
       "\t FALSE & FALSE & FALSE\\\\\n",
       "\t FALSE & FALSE & FALSE\\\\\n",
       "\t FALSE & FALSE & FALSE\\\\\n",
       "\t FALSE & FALSE & FALSE\\\\\n",
       "\t FALSE & FALSE & FALSE\\\\\n",
       "\t FALSE & FALSE & FALSE\\\\\n",
       "\t FALSE & FALSE & FALSE\\\\\n",
       "\t FALSE & FALSE & FALSE\\\\\n",
       "\t FALSE & FALSE & FALSE\\\\\n",
       "\t FALSE & FALSE & FALSE\\\\\n",
       "\t FALSE & FALSE & FALSE\\\\\n",
       "\t FALSE & FALSE & FALSE\\\\\n",
       "\t FALSE & FALSE & FALSE\\\\\n",
       "\t FALSE & FALSE & FALSE\\\\\n",
       "\t FALSE & FALSE & FALSE\\\\\n",
       "\t FALSE & FALSE & FALSE\\\\\n",
       "\t FALSE & FALSE & FALSE\\\\\n",
       "\t FALSE & FALSE & FALSE\\\\\n",
       "\t FALSE & FALSE & FALSE\\\\\n",
       "\t FALSE & FALSE & FALSE\\\\\n",
       "\t FALSE & FALSE & FALSE\\\\\n",
       "\t FALSE & FALSE & FALSE\\\\\n",
       "\t FALSE & FALSE & FALSE\\\\\n",
       "\t FALSE & FALSE & FALSE\\\\\n",
       "\t FALSE & FALSE & FALSE\\\\\n",
       "\t FALSE & FALSE & FALSE\\\\\n",
       "\\end{tabular}\n"
      ],
      "text/markdown": [
       "\n",
       "| Tree | age | circumference |\n",
       "|---|---|---|\n",
       "| FALSE | FALSE | FALSE |\n",
       "| FALSE | FALSE | FALSE |\n",
       "| FALSE | FALSE | FALSE |\n",
       "| FALSE | FALSE | FALSE |\n",
       "| FALSE | FALSE | FALSE |\n",
       "| FALSE | FALSE | FALSE |\n",
       "| FALSE | FALSE | FALSE |\n",
       "| FALSE | FALSE | FALSE |\n",
       "| FALSE | FALSE | FALSE |\n",
       "| FALSE | FALSE | FALSE |\n",
       "| FALSE | FALSE | FALSE |\n",
       "| FALSE | FALSE | FALSE |\n",
       "| FALSE | FALSE | FALSE |\n",
       "| FALSE | FALSE | FALSE |\n",
       "| FALSE | FALSE | FALSE |\n",
       "| FALSE | FALSE | FALSE |\n",
       "| FALSE | FALSE | FALSE |\n",
       "| FALSE | FALSE | FALSE |\n",
       "| FALSE | FALSE | FALSE |\n",
       "| FALSE | FALSE | FALSE |\n",
       "| FALSE | FALSE | FALSE |\n",
       "| FALSE | FALSE | FALSE |\n",
       "| FALSE | FALSE | FALSE |\n",
       "| FALSE | FALSE | FALSE |\n",
       "| FALSE | FALSE | FALSE |\n",
       "| FALSE | FALSE | FALSE |\n",
       "| FALSE | FALSE | FALSE |\n",
       "| FALSE | FALSE | FALSE |\n",
       "| FALSE | FALSE | FALSE |\n",
       "| FALSE | FALSE | FALSE |\n",
       "| FALSE | FALSE | FALSE |\n",
       "| FALSE | FALSE | FALSE |\n",
       "| FALSE | FALSE | FALSE |\n",
       "| FALSE | FALSE | FALSE |\n",
       "| FALSE | FALSE | FALSE |\n",
       "\n"
      ],
      "text/plain": [
       "   Tree  age   circumference\n",
       "1  FALSE FALSE FALSE        \n",
       "2  FALSE FALSE FALSE        \n",
       "3  FALSE FALSE FALSE        \n",
       "4  FALSE FALSE FALSE        \n",
       "5  FALSE FALSE FALSE        \n",
       "6  FALSE FALSE FALSE        \n",
       "7  FALSE FALSE FALSE        \n",
       "8  FALSE FALSE FALSE        \n",
       "9  FALSE FALSE FALSE        \n",
       "10 FALSE FALSE FALSE        \n",
       "11 FALSE FALSE FALSE        \n",
       "12 FALSE FALSE FALSE        \n",
       "13 FALSE FALSE FALSE        \n",
       "14 FALSE FALSE FALSE        \n",
       "15 FALSE FALSE FALSE        \n",
       "16 FALSE FALSE FALSE        \n",
       "17 FALSE FALSE FALSE        \n",
       "18 FALSE FALSE FALSE        \n",
       "19 FALSE FALSE FALSE        \n",
       "20 FALSE FALSE FALSE        \n",
       "21 FALSE FALSE FALSE        \n",
       "22 FALSE FALSE FALSE        \n",
       "23 FALSE FALSE FALSE        \n",
       "24 FALSE FALSE FALSE        \n",
       "25 FALSE FALSE FALSE        \n",
       "26 FALSE FALSE FALSE        \n",
       "27 FALSE FALSE FALSE        \n",
       "28 FALSE FALSE FALSE        \n",
       "29 FALSE FALSE FALSE        \n",
       "30 FALSE FALSE FALSE        \n",
       "31 FALSE FALSE FALSE        \n",
       "32 FALSE FALSE FALSE        \n",
       "33 FALSE FALSE FALSE        \n",
       "34 FALSE FALSE FALSE        \n",
       "35 FALSE FALSE FALSE        "
      ]
     },
     "metadata": {},
     "output_type": "display_data"
    }
   ],
   "source": [
    "is.na(Orange)"
   ]
  },
  {
   "cell_type": "code",
   "execution_count": null,
   "id": "exempt-carrier",
   "metadata": {},
   "outputs": [],
   "source": []
  }
 ],
 "metadata": {
  "kernelspec": {
   "display_name": "R",
   "language": "R",
   "name": "ir"
  },
  "language_info": {
   "codemirror_mode": "r",
   "file_extension": ".r",
   "mimetype": "text/x-r-source",
   "name": "R",
   "pygments_lexer": "r",
   "version": "3.6.1"
  }
 },
 "nbformat": 4,
 "nbformat_minor": 5
}
